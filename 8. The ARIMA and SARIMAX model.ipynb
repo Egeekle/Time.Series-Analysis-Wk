{
 "cells": [
  {
   "cell_type": "markdown",
   "metadata": {},
   "source": [
    "## Importing the relevant packages"
   ]
  },
  {
   "cell_type": "code",
   "execution_count": 1,
   "metadata": {},
   "outputs": [],
   "source": [
    "import pandas as pd\n",
    "import numpy as np\n",
    "import matplotlib.pyplot as plt\n",
    "import statsmodels.graphics.tsaplots as sgt\n",
    "import statsmodels.tsa.stattools as sts\n",
    "from statsmodels.tsa.arima.model import ARIMA\n",
    "from scipy.stats.distributions import chi2 \n",
    "from math import sqrt\n",
    "import seaborn as sns\n",
    "sns.set()"
   ]
  },
  {
   "cell_type": "markdown",
   "metadata": {},
   "source": [
    " "
   ]
  },
  {
   "cell_type": "markdown",
   "metadata": {},
   "source": [
    "## Importing the Data and Pre-processing "
   ]
  },
  {
   "cell_type": "code",
   "execution_count": 3,
   "metadata": {},
   "outputs": [
    {
     "data": {
      "text/plain": [
       "\"df_comp=df_comp.asfreq('b')\\ndf_comp=df_comp.fillna(method='ffill')\""
      ]
     },
     "execution_count": 3,
     "metadata": {},
     "output_type": "execute_result"
    }
   ],
   "source": [
    "raw_csv_data = pd.read_csv(\"Index_modified.csv\") \n",
    "df_comp=raw_csv_data.copy()\n",
    "df_comp.date = pd.to_datetime(df_comp.date, dayfirst = True)\n",
    "df_comp.set_index(\"date\", inplace=True)\n",
    "'''df_comp=df_comp.asfreq('b')\n",
    "df_comp=df_comp.fillna(method='ffill')'''"
   ]
  },
  {
   "cell_type": "code",
   "execution_count": 4,
   "metadata": {},
   "outputs": [],
   "source": [
    "df_comp['market_value']=df_comp.ftse"
   ]
  },
  {
   "cell_type": "code",
   "execution_count": 5,
   "metadata": {},
   "outputs": [],
   "source": [
    "import warnings\n",
    "warnings.filterwarnings(\"ignore\")"
   ]
  },
  {
   "cell_type": "code",
   "execution_count": 6,
   "metadata": {},
   "outputs": [],
   "source": [
    "#del df_comp['spx']\n",
    "#del df_comp['dax']\n",
    "#del df_comp['ftse']\n",
    "#del df_comp['nikkei']\n",
    "size = int(len(df_comp)*0.8)\n",
    "df, df_test = df_comp.iloc[:size], df_comp.iloc[size:]"
   ]
  },
  {
   "cell_type": "markdown",
   "metadata": {},
   "source": [
    "## The LLR Test"
   ]
  },
  {
   "cell_type": "code",
   "execution_count": 7,
   "metadata": {},
   "outputs": [],
   "source": [
    "def LLR_test(mod_1, mod_2, DF = 1):\n",
    "    L1 = mod_1.llf\n",
    "    L2 = mod_2.llf\n",
    "    LR = (2*(L2-L1))    \n",
    "    p = chi2.sf(LR, DF).round(3)\n",
    "    return p"
   ]
  },
  {
   "cell_type": "markdown",
   "metadata": {},
   "source": [
    "## Creating Returns"
   ]
  },
  {
   "cell_type": "code",
   "execution_count": 8,
   "metadata": {
    "scrolled": true
   },
   "outputs": [],
   "source": [
    "df['returns'] = df.market_value.pct_change(1)*100"
   ]
  },
  {
   "cell_type": "markdown",
   "metadata": {},
   "source": [
    "## ARIMA(1,1,1)"
   ]
  },
  {
   "cell_type": "code",
   "execution_count": 9,
   "metadata": {},
   "outputs": [
    {
     "data": {
      "text/html": [
       "<table class=\"simpletable\">\n",
       "<caption>SARIMAX Results</caption>\n",
       "<tr>\n",
       "  <th>Dep. Variable:</th>     <td>market_value</td>   <th>  No. Observations:  </th>    <td>6201</td>   \n",
       "</tr>\n",
       "<tr>\n",
       "  <th>Model:</th>            <td>ARIMA(1, 1, 1)</td>  <th>  Log Likelihood     </th> <td>-34025.754</td>\n",
       "</tr>\n",
       "<tr>\n",
       "  <th>Date:</th>            <td>Sat, 14 Oct 2023</td> <th>  AIC                </th>  <td>68057.509</td>\n",
       "</tr>\n",
       "<tr>\n",
       "  <th>Time:</th>                <td>19:09:33</td>     <th>  BIC                </th>  <td>68077.706</td>\n",
       "</tr>\n",
       "<tr>\n",
       "  <th>Sample:</th>                  <td>0</td>        <th>  HQIC               </th>  <td>68064.511</td>\n",
       "</tr>\n",
       "<tr>\n",
       "  <th></th>                      <td> - 6201</td>     <th>                     </th>      <td> </td>    \n",
       "</tr>\n",
       "<tr>\n",
       "  <th>Covariance Type:</th>        <td>opg</td>       <th>                     </th>      <td> </td>    \n",
       "</tr>\n",
       "</table>\n",
       "<table class=\"simpletable\">\n",
       "<tr>\n",
       "     <td></td>       <th>coef</th>     <th>std err</th>      <th>z</th>      <th>P>|z|</th>  <th>[0.025</th>    <th>0.975]</th>  \n",
       "</tr>\n",
       "<tr>\n",
       "  <th>ar.L1</th>  <td>    0.8303</td> <td>    0.041</td> <td>   20.043</td> <td> 0.000</td> <td>    0.749</td> <td>    0.912</td>\n",
       "</tr>\n",
       "<tr>\n",
       "  <th>ma.L1</th>  <td>   -0.8653</td> <td>    0.037</td> <td>  -23.441</td> <td> 0.000</td> <td>   -0.938</td> <td>   -0.793</td>\n",
       "</tr>\n",
       "<tr>\n",
       "  <th>sigma2</th> <td> 3422.7356</td> <td>   36.783</td> <td>   93.053</td> <td> 0.000</td> <td> 3350.643</td> <td> 3494.829</td>\n",
       "</tr>\n",
       "</table>\n",
       "<table class=\"simpletable\">\n",
       "<tr>\n",
       "  <th>Ljung-Box (L1) (Q):</th>     <td>2.94</td> <th>  Jarque-Bera (JB):  </th> <td>3632.49</td>\n",
       "</tr>\n",
       "<tr>\n",
       "  <th>Prob(Q):</th>                <td>0.09</td> <th>  Prob(JB):          </th>  <td>0.00</td>  \n",
       "</tr>\n",
       "<tr>\n",
       "  <th>Heteroskedasticity (H):</th> <td>1.07</td> <th>  Skew:              </th>  <td>-0.32</td> \n",
       "</tr>\n",
       "<tr>\n",
       "  <th>Prob(H) (two-sided):</th>    <td>0.12</td> <th>  Kurtosis:          </th>  <td>6.69</td>  \n",
       "</tr>\n",
       "</table><br/><br/>Warnings:<br/>[1] Covariance matrix calculated using the outer product of gradients (complex-step)."
      ],
      "text/latex": [
       "\\begin{center}\n",
       "\\begin{tabular}{lclc}\n",
       "\\toprule\n",
       "\\textbf{Dep. Variable:}          &  market\\_value   & \\textbf{  No. Observations:  } &    6201     \\\\\n",
       "\\textbf{Model:}                  &  ARIMA(1, 1, 1)  & \\textbf{  Log Likelihood     } & -34025.754  \\\\\n",
       "\\textbf{Date:}                   & Sat, 14 Oct 2023 & \\textbf{  AIC                } & 68057.509   \\\\\n",
       "\\textbf{Time:}                   &     19:09:33     & \\textbf{  BIC                } & 68077.706   \\\\\n",
       "\\textbf{Sample:}                 &        0         & \\textbf{  HQIC               } & 68064.511   \\\\\n",
       "\\textbf{}                        &      - 6201      & \\textbf{                     } &             \\\\\n",
       "\\textbf{Covariance Type:}        &       opg        & \\textbf{                     } &             \\\\\n",
       "\\bottomrule\n",
       "\\end{tabular}\n",
       "\\begin{tabular}{lcccccc}\n",
       "                & \\textbf{coef} & \\textbf{std err} & \\textbf{z} & \\textbf{P$> |$z$|$} & \\textbf{[0.025} & \\textbf{0.975]}  \\\\\n",
       "\\midrule\n",
       "\\textbf{ar.L1}  &       0.8303  &        0.041     &    20.043  &         0.000        &        0.749    &        0.912     \\\\\n",
       "\\textbf{ma.L1}  &      -0.8653  &        0.037     &   -23.441  &         0.000        &       -0.938    &       -0.793     \\\\\n",
       "\\textbf{sigma2} &    3422.7356  &       36.783     &    93.053  &         0.000        &     3350.643    &     3494.829     \\\\\n",
       "\\bottomrule\n",
       "\\end{tabular}\n",
       "\\begin{tabular}{lclc}\n",
       "\\textbf{Ljung-Box (L1) (Q):}     & 2.94 & \\textbf{  Jarque-Bera (JB):  } & 3632.49  \\\\\n",
       "\\textbf{Prob(Q):}                & 0.09 & \\textbf{  Prob(JB):          } &   0.00   \\\\\n",
       "\\textbf{Heteroskedasticity (H):} & 1.07 & \\textbf{  Skew:              } &  -0.32   \\\\\n",
       "\\textbf{Prob(H) (two-sided):}    & 0.12 & \\textbf{  Kurtosis:          } &   6.69   \\\\\n",
       "\\bottomrule\n",
       "\\end{tabular}\n",
       "%\\caption{SARIMAX Results}\n",
       "\\end{center}\n",
       "\n",
       "Warnings: \\newline\n",
       " [1] Covariance matrix calculated using the outer product of gradients (complex-step)."
      ],
      "text/plain": [
       "<class 'statsmodels.iolib.summary.Summary'>\n",
       "\"\"\"\n",
       "                               SARIMAX Results                                \n",
       "==============================================================================\n",
       "Dep. Variable:           market_value   No. Observations:                 6201\n",
       "Model:                 ARIMA(1, 1, 1)   Log Likelihood              -34025.754\n",
       "Date:                Sat, 14 Oct 2023   AIC                          68057.509\n",
       "Time:                        19:09:33   BIC                          68077.706\n",
       "Sample:                             0   HQIC                         68064.511\n",
       "                               - 6201                                         \n",
       "Covariance Type:                  opg                                         \n",
       "==============================================================================\n",
       "                 coef    std err          z      P>|z|      [0.025      0.975]\n",
       "------------------------------------------------------------------------------\n",
       "ar.L1          0.8303      0.041     20.043      0.000       0.749       0.912\n",
       "ma.L1         -0.8653      0.037    -23.441      0.000      -0.938      -0.793\n",
       "sigma2      3422.7356     36.783     93.053      0.000    3350.643    3494.829\n",
       "===================================================================================\n",
       "Ljung-Box (L1) (Q):                   2.94   Jarque-Bera (JB):              3632.49\n",
       "Prob(Q):                              0.09   Prob(JB):                         0.00\n",
       "Heteroskedasticity (H):               1.07   Skew:                            -0.32\n",
       "Prob(H) (two-sided):                  0.12   Kurtosis:                         6.69\n",
       "===================================================================================\n",
       "\n",
       "Warnings:\n",
       "[1] Covariance matrix calculated using the outer product of gradients (complex-step).\n",
       "\"\"\""
      ]
     },
     "execution_count": 9,
     "metadata": {},
     "output_type": "execute_result"
    }
   ],
   "source": [
    "model_ar_1_i_1_ma_1 = ARIMA(df.market_value, order=(1,1,1))\n",
    "results_ar_1_i_1_ma_1 = model_ar_1_i_1_ma_1.fit()\n",
    "results_ar_1_i_1_ma_1.summary()"
   ]
  },
  {
   "cell_type": "markdown",
   "metadata": {},
   "source": [
    "## Residuals of the ARIMA(1,1,1)"
   ]
  },
  {
   "cell_type": "code",
   "execution_count": 10,
   "metadata": {},
   "outputs": [
    {
     "data": {
      "image/png": "[encoded data removed]",
      "text/plain": [
       "<Figure size 640x480 with 1 Axes>"
      ]
     },
     "metadata": {},
     "output_type": "display_data"
    }
   ],
   "source": [
    "df['res_ar_1_i_1_ma_1'] = results_ar_1_i_1_ma_1.resid\n",
    "sgt.plot_acf(df.res_ar_1_i_1_ma_1, zero = False, lags = 40)\n",
    "plt.title(\"ACF Of Residuals for ARIMA(1,1,1)\",size=20)\n",
    "plt.show()"
   ]
  },
  {
   "cell_type": "code",
   "execution_count": 11,
   "metadata": {},
   "outputs": [
    {
     "data": {
      "image/png": "[encoded data removed]",
      "text/plain": [
       "<Figure size 640x480 with 1 Axes>"
      ]
     },
     "metadata": {},
     "output_type": "display_data"
    }
   ],
   "source": [
    "df['res_ar_1_i_1_ma_1'] = results_ar_1_i_1_ma_1.resid.iloc[:]\n",
    "sgt.plot_acf(df.res_ar_1_i_1_ma_1[1:], zero = False, lags = 40)\n",
    "plt.title(\"ACF Of Residuals for ARIMA(1,1,1)\",size=20)\n",
    "plt.show()"
   ]
  },
  {
   "cell_type": "markdown",
   "metadata": {},
   "source": [
    "## Higher-Lag ARIMA Models"
   ]
  },
  {
   "cell_type": "code",
   "execution_count": 14,
   "metadata": {},
   "outputs": [],
   "source": [
    "model_ar_1_i_1_ma_2 = ARIMA(df.market_value, order=(1,1,2))\n",
    "results_ar_1_i_1_ma_2 = model_ar_1_i_1_ma_2.fit()\n",
    "model_ar_1_i_1_ma_3 = ARIMA(df.market_value, order=(1,1,3))\n",
    "results_ar_1_i_1_ma_3 = model_ar_1_i_1_ma_3.fit()\n",
    "model_ar_2_i_1_ma_1 = ARIMA(df.market_value, order=(2,1,1))\n",
    "results_ar_2_i_1_ma_1 = model_ar_2_i_1_ma_1.fit()\n",
    "model_ar_3_i_1_ma_1 = ARIMA(df.market_value, order=(3,1,1))\n",
    "results_ar_3_i_1_ma_1 = model_ar_3_i_1_ma_1.fit()\n",
    "model_ar_3_i_1_ma_2 = ARIMA(df.market_value, order=(3,1,2))\n",
    "results_ar_3_i_1_ma_2 = model_ar_3_i_1_ma_2.fit()"
   ]
  },
  {
   "cell_type": "code",
   "execution_count": 15,
   "metadata": {},
   "outputs": [
    {
     "name": "stdout",
     "output_type": "stream",
     "text": [
      "ARIMA(1,1,1):  \t LL =  -34025.754450550885 \t AIC =  68057.50890110177\n",
      "ARIMA(1,1,2):  \t LL =  -34021.70907798949 \t AIC =  68051.41815597899\n",
      "ARIMA(1,1,3):  \t LL =  -34019.20225381725 \t AIC =  68048.4045076345\n",
      "ARIMA(2,1,1):  \t LL =  -34021.572116514246 \t AIC =  68051.14423302849\n",
      "ARIMA(3,1,1):  \t LL =  -34020.74115117156 \t AIC =  68051.48230234312\n",
      "ARIMA(3,1,2):  \t LL =  -34019.05754868245 \t AIC =  68050.1150973649\n"
     ]
    }
   ],
   "source": [
    "print(\"ARIMA(1,1,1):  \\t LL = \", results_ar_1_i_1_ma_1.llf, \"\\t AIC = \", results_ar_1_i_1_ma_1.aic)\n",
    "print(\"ARIMA(1,1,2):  \\t LL = \", results_ar_1_i_1_ma_2.llf, \"\\t AIC = \", results_ar_1_i_1_ma_2.aic)\n",
    "print(\"ARIMA(1,1,3):  \\t LL = \", results_ar_1_i_1_ma_3.llf, \"\\t AIC = \", results_ar_1_i_1_ma_3.aic)\n",
    "print(\"ARIMA(2,1,1):  \\t LL = \", results_ar_2_i_1_ma_1.llf, \"\\t AIC = \", results_ar_2_i_1_ma_1.aic)\n",
    "print(\"ARIMA(3,1,1):  \\t LL = \", results_ar_3_i_1_ma_1.llf, \"\\t AIC = \", results_ar_3_i_1_ma_1.aic)\n",
    "print(\"ARIMA(3,1,2):  \\t LL = \", results_ar_3_i_1_ma_2.llf, \"\\t AIC = \", results_ar_3_i_1_ma_2.aic)"
   ]
  },
  {
   "cell_type": "code",
   "execution_count": 16,
   "metadata": {},
   "outputs": [
    {
     "name": "stdout",
     "output_type": "stream",
     "text": [
      "\n",
      "LLR test p-value = 0.025\n"
     ]
    }
   ],
   "source": [
    "print(\"\\nLLR test p-value = \" + str(LLR_test(results_ar_1_i_1_ma_2, results_ar_1_i_1_ma_3)))"
   ]
  },
  {
   "cell_type": "code",
   "execution_count": 17,
   "metadata": {},
   "outputs": [
    {
     "name": "stdout",
     "output_type": "stream",
     "text": [
      "\n",
      "LLR test p-value = 0.001\n"
     ]
    }
   ],
   "source": [
    "print(\"\\nLLR test p-value = \" + str(LLR_test(results_ar_1_i_1_ma_1, results_ar_1_i_1_ma_3, DF = 2)))"
   ]
  },
  {
   "cell_type": "code",
   "execution_count": 18,
   "metadata": {},
   "outputs": [
    {
     "data": {
      "image/png": "[encoded data removed]",
      "text/plain": [
       "<Figure size 640x480 with 1 Axes>"
      ]
     },
     "metadata": {},
     "output_type": "display_data"
    }
   ],
   "source": [
    "df['res_ar_1_i_1_ma_3'] = results_ar_1_i_1_ma_3.resid\n",
    "sgt.plot_acf(df.res_ar_1_i_1_ma_3[1:], zero = False, lags = 40)\n",
    "plt.title(\"ACF Of Residuals for ARIMA(1,1,3)\", size=20)\n",
    "plt.show()"
   ]
  },
  {
   "cell_type": "code",
   "execution_count": 22,
   "metadata": {},
   "outputs": [],
   "source": [
    "model_ar_5_i_1_ma_1 = ARIMA(df.market_value, order=(5,1,1))\n",
    "results_ar_5_i_1_ma_1 = model_ar_5_i_1_ma_1.fit()\n",
    "model_ar_6_i_1_ma_3 = ARIMA(df.market_value, order=(6,1,3))\n",
    "results_ar_6_i_1_ma_3 = model_ar_6_i_1_ma_3.fit()"
   ]
  },
  {
   "cell_type": "code",
   "execution_count": 23,
   "metadata": {},
   "outputs": [
    {
     "data": {
      "text/html": [
       "<table class=\"simpletable\">\n",
       "<caption>SARIMAX Results</caption>\n",
       "<tr>\n",
       "  <th>Dep. Variable:</th>     <td>market_value</td>   <th>  No. Observations:  </th>    <td>6201</td>   \n",
       "</tr>\n",
       "<tr>\n",
       "  <th>Model:</th>            <td>ARIMA(5, 1, 1)</td>  <th>  Log Likelihood     </th> <td>-34014.641</td>\n",
       "</tr>\n",
       "<tr>\n",
       "  <th>Date:</th>            <td>Sat, 14 Oct 2023</td> <th>  AIC                </th>  <td>68043.283</td>\n",
       "</tr>\n",
       "<tr>\n",
       "  <th>Time:</th>                <td>19:11:11</td>     <th>  BIC                </th>  <td>68090.409</td>\n",
       "</tr>\n",
       "<tr>\n",
       "  <th>Sample:</th>                  <td>0</td>        <th>  HQIC               </th>  <td>68059.621</td>\n",
       "</tr>\n",
       "<tr>\n",
       "  <th></th>                      <td> - 6201</td>     <th>                     </th>      <td> </td>    \n",
       "</tr>\n",
       "<tr>\n",
       "  <th>Covariance Type:</th>        <td>opg</td>       <th>                     </th>      <td> </td>    \n",
       "</tr>\n",
       "</table>\n",
       "<table class=\"simpletable\">\n",
       "<tr>\n",
       "     <td></td>       <th>coef</th>     <th>std err</th>      <th>z</th>      <th>P>|z|</th>  <th>[0.025</th>    <th>0.975]</th>  \n",
       "</tr>\n",
       "<tr>\n",
       "  <th>ar.L1</th>  <td>    0.3681</td> <td>    0.155</td> <td>    2.372</td> <td> 0.018</td> <td>    0.064</td> <td>    0.672</td>\n",
       "</tr>\n",
       "<tr>\n",
       "  <th>ar.L2</th>  <td>   -0.0457</td> <td>    0.009</td> <td>   -4.866</td> <td> 0.000</td> <td>   -0.064</td> <td>   -0.027</td>\n",
       "</tr>\n",
       "<tr>\n",
       "  <th>ar.L3</th>  <td>   -0.0378</td> <td>    0.012</td> <td>   -3.214</td> <td> 0.001</td> <td>   -0.061</td> <td>   -0.015</td>\n",
       "</tr>\n",
       "<tr>\n",
       "  <th>ar.L4</th>  <td>    0.0282</td> <td>    0.012</td> <td>    2.268</td> <td> 0.023</td> <td>    0.004</td> <td>    0.053</td>\n",
       "</tr>\n",
       "<tr>\n",
       "  <th>ar.L5</th>  <td>   -0.0464</td> <td>    0.008</td> <td>   -5.517</td> <td> 0.000</td> <td>   -0.063</td> <td>   -0.030</td>\n",
       "</tr>\n",
       "<tr>\n",
       "  <th>ma.L1</th>  <td>   -0.3799</td> <td>    0.156</td> <td>   -2.443</td> <td> 0.015</td> <td>   -0.685</td> <td>   -0.075</td>\n",
       "</tr>\n",
       "<tr>\n",
       "  <th>sigma2</th> <td> 3413.9398</td> <td>   37.458</td> <td>   91.140</td> <td> 0.000</td> <td> 3340.523</td> <td> 3487.357</td>\n",
       "</tr>\n",
       "</table>\n",
       "<table class=\"simpletable\">\n",
       "<tr>\n",
       "  <th>Ljung-Box (L1) (Q):</th>     <td>0.00</td> <th>  Jarque-Bera (JB):  </th> <td>3394.80</td>\n",
       "</tr>\n",
       "<tr>\n",
       "  <th>Prob(Q):</th>                <td>0.97</td> <th>  Prob(JB):          </th>  <td>0.00</td>  \n",
       "</tr>\n",
       "<tr>\n",
       "  <th>Heteroskedasticity (H):</th> <td>1.09</td> <th>  Skew:              </th>  <td>-0.30</td> \n",
       "</tr>\n",
       "<tr>\n",
       "  <th>Prob(H) (two-sided):</th>    <td>0.06</td> <th>  Kurtosis:          </th>  <td>6.58</td>  \n",
       "</tr>\n",
       "</table><br/><br/>Warnings:<br/>[1] Covariance matrix calculated using the outer product of gradients (complex-step)."
      ],
      "text/latex": [
       "\\begin{center}\n",
       "\\begin{tabular}{lclc}\n",
       "\\toprule\n",
       "\\textbf{Dep. Variable:}          &  market\\_value   & \\textbf{  No. Observations:  } &    6201     \\\\\n",
       "\\textbf{Model:}                  &  ARIMA(5, 1, 1)  & \\textbf{  Log Likelihood     } & -34014.641  \\\\\n",
       "\\textbf{Date:}                   & Sat, 14 Oct 2023 & \\textbf{  AIC                } & 68043.283   \\\\\n",
       "\\textbf{Time:}                   &     19:11:11     & \\textbf{  BIC                } & 68090.409   \\\\\n",
       "\\textbf{Sample:}                 &        0         & \\textbf{  HQIC               } & 68059.621   \\\\\n",
       "\\textbf{}                        &      - 6201      & \\textbf{                     } &             \\\\\n",
       "\\textbf{Covariance Type:}        &       opg        & \\textbf{                     } &             \\\\\n",
       "\\bottomrule\n",
       "\\end{tabular}\n",
       "\\begin{tabular}{lcccccc}\n",
       "                & \\textbf{coef} & \\textbf{std err} & \\textbf{z} & \\textbf{P$> |$z$|$} & \\textbf{[0.025} & \\textbf{0.975]}  \\\\\n",
       "\\midrule\n",
       "\\textbf{ar.L1}  &       0.3681  &        0.155     &     2.372  &         0.018        &        0.064    &        0.672     \\\\\n",
       "\\textbf{ar.L2}  &      -0.0457  &        0.009     &    -4.866  &         0.000        &       -0.064    &       -0.027     \\\\\n",
       "\\textbf{ar.L3}  &      -0.0378  &        0.012     &    -3.214  &         0.001        &       -0.061    &       -0.015     \\\\\n",
       "\\textbf{ar.L4}  &       0.0282  &        0.012     &     2.268  &         0.023        &        0.004    &        0.053     \\\\\n",
       "\\textbf{ar.L5}  &      -0.0464  &        0.008     &    -5.517  &         0.000        &       -0.063    &       -0.030     \\\\\n",
       "\\textbf{ma.L1}  &      -0.3799  &        0.156     &    -2.443  &         0.015        &       -0.685    &       -0.075     \\\\\n",
       "\\textbf{sigma2} &    3413.9398  &       37.458     &    91.140  &         0.000        &     3340.523    &     3487.357     \\\\\n",
       "\\bottomrule\n",
       "\\end{tabular}\n",
       "\\begin{tabular}{lclc}\n",
       "\\textbf{Ljung-Box (L1) (Q):}     & 0.00 & \\textbf{  Jarque-Bera (JB):  } & 3394.80  \\\\\n",
       "\\textbf{Prob(Q):}                & 0.97 & \\textbf{  Prob(JB):          } &   0.00   \\\\\n",
       "\\textbf{Heteroskedasticity (H):} & 1.09 & \\textbf{  Skew:              } &  -0.30   \\\\\n",
       "\\textbf{Prob(H) (two-sided):}    & 0.06 & \\textbf{  Kurtosis:          } &   6.58   \\\\\n",
       "\\bottomrule\n",
       "\\end{tabular}\n",
       "%\\caption{SARIMAX Results}\n",
       "\\end{center}\n",
       "\n",
       "Warnings: \\newline\n",
       " [1] Covariance matrix calculated using the outer product of gradients (complex-step)."
      ],
      "text/plain": [
       "<class 'statsmodels.iolib.summary.Summary'>\n",
       "\"\"\"\n",
       "                               SARIMAX Results                                \n",
       "==============================================================================\n",
       "Dep. Variable:           market_value   No. Observations:                 6201\n",
       "Model:                 ARIMA(5, 1, 1)   Log Likelihood              -34014.641\n",
       "Date:                Sat, 14 Oct 2023   AIC                          68043.283\n",
       "Time:                        19:11:11   BIC                          68090.409\n",
       "Sample:                             0   HQIC                         68059.621\n",
       "                               - 6201                                         \n",
       "Covariance Type:                  opg                                         \n",
       "==============================================================================\n",
       "                 coef    std err          z      P>|z|      [0.025      0.975]\n",
       "------------------------------------------------------------------------------\n",
       "ar.L1          0.3681      0.155      2.372      0.018       0.064       0.672\n",
       "ar.L2         -0.0457      0.009     -4.866      0.000      -0.064      -0.027\n",
       "ar.L3         -0.0378      0.012     -3.214      0.001      -0.061      -0.015\n",
       "ar.L4          0.0282      0.012      2.268      0.023       0.004       0.053\n",
       "ar.L5         -0.0464      0.008     -5.517      0.000      -0.063      -0.030\n",
       "ma.L1         -0.3799      0.156     -2.443      0.015      -0.685      -0.075\n",
       "sigma2      3413.9398     37.458     91.140      0.000    3340.523    3487.357\n",
       "===================================================================================\n",
       "Ljung-Box (L1) (Q):                   0.00   Jarque-Bera (JB):              3394.80\n",
       "Prob(Q):                              0.97   Prob(JB):                         0.00\n",
       "Heteroskedasticity (H):               1.09   Skew:                            -0.30\n",
       "Prob(H) (two-sided):                  0.06   Kurtosis:                         6.58\n",
       "===================================================================================\n",
       "\n",
       "Warnings:\n",
       "[1] Covariance matrix calculated using the outer product of gradients (complex-step).\n",
       "\"\"\""
      ]
     },
     "execution_count": 23,
     "metadata": {},
     "output_type": "execute_result"
    }
   ],
   "source": [
    "results_ar_5_i_1_ma_1.summary()"
   ]
  },
  {
   "cell_type": "code",
   "execution_count": 24,
   "metadata": {},
   "outputs": [
    {
     "name": "stdout",
     "output_type": "stream",
     "text": [
      "ARIMA(1,1,3):  \t LL =  -34019.20225381725 \t AIC =  68048.4045076345\n",
      "ARIMA(5,1,1):  \t LL =  -34014.64142940913 \t AIC =  68043.28285881826\n",
      "ARIMA(6,1,3):  \t LL =  -34012.07446474298 \t AIC =  68044.14892948596\n"
     ]
    }
   ],
   "source": [
    "print(\"ARIMA(1,1,3):  \\t LL = \", results_ar_1_i_1_ma_3.llf, \"\\t AIC = \", results_ar_1_i_1_ma_3.aic)\n",
    "print(\"ARIMA(5,1,1):  \\t LL = \", results_ar_5_i_1_ma_1.llf, \"\\t AIC = \", results_ar_5_i_1_ma_1.aic)\n",
    "print(\"ARIMA(6,1,3):  \\t LL = \", results_ar_6_i_1_ma_3.llf, \"\\t AIC = \", results_ar_6_i_1_ma_3.aic)"
   ]
  },
  {
   "cell_type": "code",
   "execution_count": 25,
   "metadata": {},
   "outputs": [
    {
     "name": "stdout",
     "output_type": "stream",
     "text": [
      "\n",
      "LLR test p-value = 0.014\n"
     ]
    }
   ],
   "source": [
    "print(\"\\nLLR test p-value = \" + str(LLR_test(results_ar_1_i_1_ma_3, results_ar_6_i_1_ma_3, DF = 5)))"
   ]
  },
  {
   "cell_type": "code",
   "execution_count": 26,
   "metadata": {},
   "outputs": [
    {
     "name": "stdout",
     "output_type": "stream",
     "text": [
      "\n",
      "LLR test p-value = 0.162\n"
     ]
    }
   ],
   "source": [
    "print(\"\\nLLR test p-value = \" + str(LLR_test(results_ar_5_i_1_ma_1, results_ar_6_i_1_ma_3, DF = 3)))"
   ]
  },
  {
   "cell_type": "code",
   "execution_count": 27,
   "metadata": {},
   "outputs": [
    {
     "data": {
      "image/png": "[encoded data removed]",
      "text/plain": [
       "<Figure size 640x480 with 1 Axes>"
      ]
     },
     "metadata": {},
     "output_type": "display_data"
    }
   ],
   "source": [
    "df['res_ar_5_i_1_ma_1'] = results_ar_5_i_1_ma_1.resid\n",
    "sgt.plot_acf(df.res_ar_5_i_1_ma_1[1:], zero = False, lags = 40)\n",
    "plt.title(\"ACF Of Residuals for ARIMA(5,1,1)\", size=20)\n",
    "plt.show()"
   ]
  },
  {
   "cell_type": "markdown",
   "metadata": {},
   "source": [
    "## Models with Higher Levels of Integration"
   ]
  },
  {
   "cell_type": "code",
   "execution_count": 28,
   "metadata": {},
   "outputs": [],
   "source": [
    "df['delta_prices']=df.market_value.diff(1)"
   ]
  },
  {
   "cell_type": "code",
   "execution_count": 29,
   "metadata": {
    "scrolled": true
   },
   "outputs": [
    {
     "data": {
      "text/html": [
       "<table class=\"simpletable\">\n",
       "<caption>SARIMAX Results</caption>\n",
       "<tr>\n",
       "  <th>Dep. Variable:</th>     <td>delta_prices</td>   <th>  No. Observations:  </th>    <td>6200</td>   \n",
       "</tr>\n",
       "<tr>\n",
       "  <th>Model:</th>            <td>ARIMA(1, 0, 1)</td>  <th>  Log Likelihood     </th> <td>-34025.130</td>\n",
       "</tr>\n",
       "<tr>\n",
       "  <th>Date:</th>            <td>Sat, 14 Oct 2023</td> <th>  AIC                </th>  <td>68058.260</td>\n",
       "</tr>\n",
       "<tr>\n",
       "  <th>Time:</th>                <td>19:11:13</td>     <th>  BIC                </th>  <td>68085.189</td>\n",
       "</tr>\n",
       "<tr>\n",
       "  <th>Sample:</th>                  <td>0</td>        <th>  HQIC               </th>  <td>68067.596</td>\n",
       "</tr>\n",
       "<tr>\n",
       "  <th></th>                      <td> - 6200</td>     <th>                     </th>      <td> </td>    \n",
       "</tr>\n",
       "<tr>\n",
       "  <th>Covariance Type:</th>        <td>opg</td>       <th>                     </th>      <td> </td>    \n",
       "</tr>\n",
       "</table>\n",
       "<table class=\"simpletable\">\n",
       "<tr>\n",
       "     <td></td>       <th>coef</th>     <th>std err</th>      <th>z</th>      <th>P>|z|</th>  <th>[0.025</th>    <th>0.975]</th>  \n",
       "</tr>\n",
       "<tr>\n",
       "  <th>const</th>  <td>    0.6585</td> <td>    0.656</td> <td>    1.004</td> <td> 0.315</td> <td>   -0.627</td> <td>    1.944</td>\n",
       "</tr>\n",
       "<tr>\n",
       "  <th>ar.L1</th>  <td>    0.8358</td> <td>    0.040</td> <td>   20.902</td> <td> 0.000</td> <td>    0.757</td> <td>    0.914</td>\n",
       "</tr>\n",
       "<tr>\n",
       "  <th>ma.L1</th>  <td>   -0.8706</td> <td>    0.036</td> <td>  -24.369</td> <td> 0.000</td> <td>   -0.941</td> <td>   -0.801</td>\n",
       "</tr>\n",
       "<tr>\n",
       "  <th>sigma2</th> <td> 3421.9356</td> <td>   36.998</td> <td>   92.489</td> <td> 0.000</td> <td> 3349.420</td> <td> 3494.451</td>\n",
       "</tr>\n",
       "</table>\n",
       "<table class=\"simpletable\">\n",
       "<tr>\n",
       "  <th>Ljung-Box (L1) (Q):</th>     <td>2.90</td> <th>  Jarque-Bera (JB):  </th> <td>3639.06</td>\n",
       "</tr>\n",
       "<tr>\n",
       "  <th>Prob(Q):</th>                <td>0.09</td> <th>  Prob(JB):          </th>  <td>0.00</td>  \n",
       "</tr>\n",
       "<tr>\n",
       "  <th>Heteroskedasticity (H):</th> <td>1.07</td> <th>  Skew:              </th>  <td>-0.32</td> \n",
       "</tr>\n",
       "<tr>\n",
       "  <th>Prob(H) (two-sided):</th>    <td>0.12</td> <th>  Kurtosis:          </th>  <td>6.70</td>  \n",
       "</tr>\n",
       "</table><br/><br/>Warnings:<br/>[1] Covariance matrix calculated using the outer product of gradients (complex-step)."
      ],
      "text/latex": [
       "\\begin{center}\n",
       "\\begin{tabular}{lclc}\n",
       "\\toprule\n",
       "\\textbf{Dep. Variable:}          &  delta\\_prices   & \\textbf{  No. Observations:  } &    6200     \\\\\n",
       "\\textbf{Model:}                  &  ARIMA(1, 0, 1)  & \\textbf{  Log Likelihood     } & -34025.130  \\\\\n",
       "\\textbf{Date:}                   & Sat, 14 Oct 2023 & \\textbf{  AIC                } & 68058.260   \\\\\n",
       "\\textbf{Time:}                   &     19:11:13     & \\textbf{  BIC                } & 68085.189   \\\\\n",
       "\\textbf{Sample:}                 &        0         & \\textbf{  HQIC               } & 68067.596   \\\\\n",
       "\\textbf{}                        &      - 6200      & \\textbf{                     } &             \\\\\n",
       "\\textbf{Covariance Type:}        &       opg        & \\textbf{                     } &             \\\\\n",
       "\\bottomrule\n",
       "\\end{tabular}\n",
       "\\begin{tabular}{lcccccc}\n",
       "                & \\textbf{coef} & \\textbf{std err} & \\textbf{z} & \\textbf{P$> |$z$|$} & \\textbf{[0.025} & \\textbf{0.975]}  \\\\\n",
       "\\midrule\n",
       "\\textbf{const}  &       0.6585  &        0.656     &     1.004  &         0.315        &       -0.627    &        1.944     \\\\\n",
       "\\textbf{ar.L1}  &       0.8358  &        0.040     &    20.902  &         0.000        &        0.757    &        0.914     \\\\\n",
       "\\textbf{ma.L1}  &      -0.8706  &        0.036     &   -24.369  &         0.000        &       -0.941    &       -0.801     \\\\\n",
       "\\textbf{sigma2} &    3421.9356  &       36.998     &    92.489  &         0.000        &     3349.420    &     3494.451     \\\\\n",
       "\\bottomrule\n",
       "\\end{tabular}\n",
       "\\begin{tabular}{lclc}\n",
       "\\textbf{Ljung-Box (L1) (Q):}     & 2.90 & \\textbf{  Jarque-Bera (JB):  } & 3639.06  \\\\\n",
       "\\textbf{Prob(Q):}                & 0.09 & \\textbf{  Prob(JB):          } &   0.00   \\\\\n",
       "\\textbf{Heteroskedasticity (H):} & 1.07 & \\textbf{  Skew:              } &  -0.32   \\\\\n",
       "\\textbf{Prob(H) (two-sided):}    & 0.12 & \\textbf{  Kurtosis:          } &   6.70   \\\\\n",
       "\\bottomrule\n",
       "\\end{tabular}\n",
       "%\\caption{SARIMAX Results}\n",
       "\\end{center}\n",
       "\n",
       "Warnings: \\newline\n",
       " [1] Covariance matrix calculated using the outer product of gradients (complex-step)."
      ],
      "text/plain": [
       "<class 'statsmodels.iolib.summary.Summary'>\n",
       "\"\"\"\n",
       "                               SARIMAX Results                                \n",
       "==============================================================================\n",
       "Dep. Variable:           delta_prices   No. Observations:                 6200\n",
       "Model:                 ARIMA(1, 0, 1)   Log Likelihood              -34025.130\n",
       "Date:                Sat, 14 Oct 2023   AIC                          68058.260\n",
       "Time:                        19:11:13   BIC                          68085.189\n",
       "Sample:                             0   HQIC                         68067.596\n",
       "                               - 6200                                         \n",
       "Covariance Type:                  opg                                         \n",
       "==============================================================================\n",
       "                 coef    std err          z      P>|z|      [0.025      0.975]\n",
       "------------------------------------------------------------------------------\n",
       "const          0.6585      0.656      1.004      0.315      -0.627       1.944\n",
       "ar.L1          0.8358      0.040     20.902      0.000       0.757       0.914\n",
       "ma.L1         -0.8706      0.036    -24.369      0.000      -0.941      -0.801\n",
       "sigma2      3421.9356     36.998     92.489      0.000    3349.420    3494.451\n",
       "===================================================================================\n",
       "Ljung-Box (L1) (Q):                   2.90   Jarque-Bera (JB):              3639.06\n",
       "Prob(Q):                              0.09   Prob(JB):                         0.00\n",
       "Heteroskedasticity (H):               1.07   Skew:                            -0.32\n",
       "Prob(H) (two-sided):                  0.12   Kurtosis:                         6.70\n",
       "===================================================================================\n",
       "\n",
       "Warnings:\n",
       "[1] Covariance matrix calculated using the outer product of gradients (complex-step).\n",
       "\"\"\""
      ]
     },
     "execution_count": 29,
     "metadata": {},
     "output_type": "execute_result"
    }
   ],
   "source": [
    "model_delta_ar_1_i_1_ma_1 = ARIMA(df.delta_prices[1:], order=(1,0,1))\n",
    "results_delta_ar_1_i_1_ma_1 = model_delta_ar_1_i_1_ma_1.fit()\n",
    "results_delta_ar_1_i_1_ma_1.summary()"
   ]
  },
  {
   "cell_type": "code",
   "execution_count": 30,
   "metadata": {},
   "outputs": [
    {
     "data": {
      "text/plain": [
       "(-35.50891681865371,\n",
       " 0.0,\n",
       " 5,\n",
       " 6194,\n",
       " {'1%': -3.431406185358798,\n",
       "  '5%': -2.862006739523472,\n",
       "  '10%': -2.5670184426062947},\n",
       " 67682.34205085899)"
      ]
     },
     "execution_count": 30,
     "metadata": {},
     "output_type": "execute_result"
    }
   ],
   "source": [
    "sts.adfuller(df.delta_prices[1:])"
   ]
  },
  {
   "cell_type": "code",
   "execution_count": 32,
   "metadata": {},
   "outputs": [
    {
     "data": {
      "text/html": [
       "<table class=\"simpletable\">\n",
       "<caption>SARIMAX Results</caption>\n",
       "<tr>\n",
       "  <th>Dep. Variable:</th>     <td>market_value</td>   <th>  No. Observations:  </th>    <td>6201</td>   \n",
       "</tr>\n",
       "<tr>\n",
       "  <th>Model:</th>            <td>ARIMA(1, 2, 1)</td>  <th>  Log Likelihood     </th> <td>-34036.696</td>\n",
       "</tr>\n",
       "<tr>\n",
       "  <th>Date:</th>            <td>Sat, 14 Oct 2023</td> <th>  AIC                </th>  <td>68079.393</td>\n",
       "</tr>\n",
       "<tr>\n",
       "  <th>Time:</th>                <td>19:11:25</td>     <th>  BIC                </th>  <td>68099.589</td>\n",
       "</tr>\n",
       "<tr>\n",
       "  <th>Sample:</th>                  <td>0</td>        <th>  HQIC               </th>  <td>68086.395</td>\n",
       "</tr>\n",
       "<tr>\n",
       "  <th></th>                      <td> - 6201</td>     <th>                     </th>      <td> </td>    \n",
       "</tr>\n",
       "<tr>\n",
       "  <th>Covariance Type:</th>        <td>opg</td>       <th>                     </th>      <td> </td>    \n",
       "</tr>\n",
       "</table>\n",
       "<table class=\"simpletable\">\n",
       "<tr>\n",
       "     <td></td>       <th>coef</th>     <th>std err</th>      <th>z</th>      <th>P>|z|</th>  <th>[0.025</th>    <th>0.975]</th>  \n",
       "</tr>\n",
       "<tr>\n",
       "  <th>ar.L1</th>  <td>   -0.0087</td> <td>    0.009</td> <td>   -0.984</td> <td> 0.325</td> <td>   -0.026</td> <td>    0.009</td>\n",
       "</tr>\n",
       "<tr>\n",
       "  <th>ma.L1</th>  <td>   -1.0000</td> <td>    0.010</td> <td> -101.886</td> <td> 0.000</td> <td>   -1.019</td> <td>   -0.981</td>\n",
       "</tr>\n",
       "<tr>\n",
       "  <th>sigma2</th> <td> 3436.0584</td> <td>   48.491</td> <td>   70.859</td> <td> 0.000</td> <td> 3341.018</td> <td> 3531.099</td>\n",
       "</tr>\n",
       "</table>\n",
       "<table class=\"simpletable\">\n",
       "<tr>\n",
       "  <th>Ljung-Box (L1) (Q):</th>     <td>0.00</td> <th>  Jarque-Bera (JB):  </th> <td>3579.85</td>\n",
       "</tr>\n",
       "<tr>\n",
       "  <th>Prob(Q):</th>                <td>0.96</td> <th>  Prob(JB):          </th>  <td>0.00</td>  \n",
       "</tr>\n",
       "<tr>\n",
       "  <th>Heteroskedasticity (H):</th> <td>1.07</td> <th>  Skew:              </th>  <td>-0.21</td> \n",
       "</tr>\n",
       "<tr>\n",
       "  <th>Prob(H) (two-sided):</th>    <td>0.13</td> <th>  Kurtosis:          </th>  <td>6.70</td>  \n",
       "</tr>\n",
       "</table><br/><br/>Warnings:<br/>[1] Covariance matrix calculated using the outer product of gradients (complex-step)."
      ],
      "text/latex": [
       "\\begin{center}\n",
       "\\begin{tabular}{lclc}\n",
       "\\toprule\n",
       "\\textbf{Dep. Variable:}          &  market\\_value   & \\textbf{  No. Observations:  } &    6201     \\\\\n",
       "\\textbf{Model:}                  &  ARIMA(1, 2, 1)  & \\textbf{  Log Likelihood     } & -34036.696  \\\\\n",
       "\\textbf{Date:}                   & Sat, 14 Oct 2023 & \\textbf{  AIC                } & 68079.393   \\\\\n",
       "\\textbf{Time:}                   &     19:11:25     & \\textbf{  BIC                } & 68099.589   \\\\\n",
       "\\textbf{Sample:}                 &        0         & \\textbf{  HQIC               } & 68086.395   \\\\\n",
       "\\textbf{}                        &      - 6201      & \\textbf{                     } &             \\\\\n",
       "\\textbf{Covariance Type:}        &       opg        & \\textbf{                     } &             \\\\\n",
       "\\bottomrule\n",
       "\\end{tabular}\n",
       "\\begin{tabular}{lcccccc}\n",
       "                & \\textbf{coef} & \\textbf{std err} & \\textbf{z} & \\textbf{P$> |$z$|$} & \\textbf{[0.025} & \\textbf{0.975]}  \\\\\n",
       "\\midrule\n",
       "\\textbf{ar.L1}  &      -0.0087  &        0.009     &    -0.984  &         0.325        &       -0.026    &        0.009     \\\\\n",
       "\\textbf{ma.L1}  &      -1.0000  &        0.010     &  -101.886  &         0.000        &       -1.019    &       -0.981     \\\\\n",
       "\\textbf{sigma2} &    3436.0584  &       48.491     &    70.859  &         0.000        &     3341.018    &     3531.099     \\\\\n",
       "\\bottomrule\n",
       "\\end{tabular}\n",
       "\\begin{tabular}{lclc}\n",
       "\\textbf{Ljung-Box (L1) (Q):}     & 0.00 & \\textbf{  Jarque-Bera (JB):  } & 3579.85  \\\\\n",
       "\\textbf{Prob(Q):}                & 0.96 & \\textbf{  Prob(JB):          } &   0.00   \\\\\n",
       "\\textbf{Heteroskedasticity (H):} & 1.07 & \\textbf{  Skew:              } &  -0.21   \\\\\n",
       "\\textbf{Prob(H) (two-sided):}    & 0.13 & \\textbf{  Kurtosis:          } &   6.70   \\\\\n",
       "\\bottomrule\n",
       "\\end{tabular}\n",
       "%\\caption{SARIMAX Results}\n",
       "\\end{center}\n",
       "\n",
       "Warnings: \\newline\n",
       " [1] Covariance matrix calculated using the outer product of gradients (complex-step)."
      ],
      "text/plain": [
       "<class 'statsmodels.iolib.summary.Summary'>\n",
       "\"\"\"\n",
       "                               SARIMAX Results                                \n",
       "==============================================================================\n",
       "Dep. Variable:           market_value   No. Observations:                 6201\n",
       "Model:                 ARIMA(1, 2, 1)   Log Likelihood              -34036.696\n",
       "Date:                Sat, 14 Oct 2023   AIC                          68079.393\n",
       "Time:                        19:11:25   BIC                          68099.589\n",
       "Sample:                             0   HQIC                         68086.395\n",
       "                               - 6201                                         \n",
       "Covariance Type:                  opg                                         \n",
       "==============================================================================\n",
       "                 coef    std err          z      P>|z|      [0.025      0.975]\n",
       "------------------------------------------------------------------------------\n",
       "ar.L1         -0.0087      0.009     -0.984      0.325      -0.026       0.009\n",
       "ma.L1         -1.0000      0.010   -101.886      0.000      -1.019      -0.981\n",
       "sigma2      3436.0584     48.491     70.859      0.000    3341.018    3531.099\n",
       "===================================================================================\n",
       "Ljung-Box (L1) (Q):                   0.00   Jarque-Bera (JB):              3579.85\n",
       "Prob(Q):                              0.96   Prob(JB):                         0.00\n",
       "Heteroskedasticity (H):               1.07   Skew:                            -0.21\n",
       "Prob(H) (two-sided):                  0.13   Kurtosis:                         6.70\n",
       "===================================================================================\n",
       "\n",
       "Warnings:\n",
       "[1] Covariance matrix calculated using the outer product of gradients (complex-step).\n",
       "\"\"\""
      ]
     },
     "execution_count": 32,
     "metadata": {},
     "output_type": "execute_result"
    }
   ],
   "source": [
    "model_ar_1_i_2_ma_1 = ARIMA(df.market_value, order=(1,2,1))\n",
    "results_ar_1_i_2_ma_1 = model_ar_1_i_2_ma_1.fit()\n",
    "results_ar_1_i_2_ma_1.summary()"
   ]
  },
  {
   "cell_type": "code",
   "execution_count": 33,
   "metadata": {},
   "outputs": [
    {
     "data": {
      "image/png": "[encoded data removed]",
      "text/plain": [
       "<Figure size 640x480 with 1 Axes>"
      ]
     },
     "metadata": {},
     "output_type": "display_data"
    }
   ],
   "source": [
    "df['res_ar_1_i_2_ma_1'] = results_ar_1_i_2_ma_1.resid.iloc[:]\n",
    "sgt.plot_acf(df.res_ar_1_i_2_ma_1[2:], zero = False, lags = 40)\n",
    "plt.title(\"ACF Of Residuals for ARIMA(1,2,1)\",size=20)\n",
    "plt.show()"
   ]
  },
  {
   "cell_type": "markdown",
   "metadata": {},
   "source": [
    "## ARIMAX "
   ]
  },
  {
   "cell_type": "code",
   "execution_count": 34,
   "metadata": {
    "scrolled": true
   },
   "outputs": [
    {
     "data": {
      "text/html": [
       "<table class=\"simpletable\">\n",
       "<caption>SARIMAX Results</caption>\n",
       "<tr>\n",
       "  <th>Dep. Variable:</th>     <td>market_value</td>   <th>  No. Observations:  </th>    <td>6201</td>   \n",
       "</tr>\n",
       "<tr>\n",
       "  <th>Model:</th>            <td>ARIMA(1, 1, 1)</td>  <th>  Log Likelihood     </th> <td>-32883.543</td>\n",
       "</tr>\n",
       "<tr>\n",
       "  <th>Date:</th>            <td>Sat, 14 Oct 2023</td> <th>  AIC                </th>  <td>65775.086</td>\n",
       "</tr>\n",
       "<tr>\n",
       "  <th>Time:</th>                <td>19:11:32</td>     <th>  BIC                </th>  <td>65802.015</td>\n",
       "</tr>\n",
       "<tr>\n",
       "  <th>Sample:</th>                  <td>0</td>        <th>  HQIC               </th>  <td>65784.422</td>\n",
       "</tr>\n",
       "<tr>\n",
       "  <th></th>                      <td> - 6201</td>     <th>                     </th>      <td> </td>    \n",
       "</tr>\n",
       "<tr>\n",
       "  <th>Covariance Type:</th>        <td>opg</td>       <th>                     </th>      <td> </td>    \n",
       "</tr>\n",
       "</table>\n",
       "<table class=\"simpletable\">\n",
       "<tr>\n",
       "     <td></td>       <th>coef</th>     <th>std err</th>      <th>z</th>      <th>P>|z|</th>  <th>[0.025</th>    <th>0.975]</th>  \n",
       "</tr>\n",
       "<tr>\n",
       "  <th>spx</th>    <td>    2.5907</td> <td>    0.031</td> <td>   83.331</td> <td> 0.000</td> <td>    2.530</td> <td>    2.652</td>\n",
       "</tr>\n",
       "<tr>\n",
       "  <th>ar.L1</th>  <td>    0.2120</td> <td>    0.030</td> <td>    7.145</td> <td> 0.000</td> <td>    0.154</td> <td>    0.270</td>\n",
       "</tr>\n",
       "<tr>\n",
       "  <th>ma.L1</th>  <td>   -0.4813</td> <td>    0.027</td> <td>  -18.051</td> <td> 0.000</td> <td>   -0.534</td> <td>   -0.429</td>\n",
       "</tr>\n",
       "<tr>\n",
       "  <th>sigma2</th> <td> 2367.7616</td> <td>   24.592</td> <td>   96.283</td> <td> 0.000</td> <td> 2319.563</td> <td> 2415.960</td>\n",
       "</tr>\n",
       "</table>\n",
       "<table class=\"simpletable\">\n",
       "<tr>\n",
       "  <th>Ljung-Box (L1) (Q):</th>     <td>0.12</td> <th>  Jarque-Bera (JB):  </th> <td>4632.97</td>\n",
       "</tr>\n",
       "<tr>\n",
       "  <th>Prob(Q):</th>                <td>0.73</td> <th>  Prob(JB):          </th>  <td>0.00</td>  \n",
       "</tr>\n",
       "<tr>\n",
       "  <th>Heteroskedasticity (H):</th> <td>0.77</td> <th>  Skew:              </th>  <td>-0.45</td> \n",
       "</tr>\n",
       "<tr>\n",
       "  <th>Prob(H) (two-sided):</th>    <td>0.00</td> <th>  Kurtosis:          </th>  <td>7.14</td>  \n",
       "</tr>\n",
       "</table><br/><br/>Warnings:<br/>[1] Covariance matrix calculated using the outer product of gradients (complex-step)."
      ],
      "text/latex": [
       "\\begin{center}\n",
       "\\begin{tabular}{lclc}\n",
       "\\toprule\n",
       "\\textbf{Dep. Variable:}          &  market\\_value   & \\textbf{  No. Observations:  } &    6201     \\\\\n",
       "\\textbf{Model:}                  &  ARIMA(1, 1, 1)  & \\textbf{  Log Likelihood     } & -32883.543  \\\\\n",
       "\\textbf{Date:}                   & Sat, 14 Oct 2023 & \\textbf{  AIC                } & 65775.086   \\\\\n",
       "\\textbf{Time:}                   &     19:11:32     & \\textbf{  BIC                } & 65802.015   \\\\\n",
       "\\textbf{Sample:}                 &        0         & \\textbf{  HQIC               } & 65784.422   \\\\\n",
       "\\textbf{}                        &      - 6201      & \\textbf{                     } &             \\\\\n",
       "\\textbf{Covariance Type:}        &       opg        & \\textbf{                     } &             \\\\\n",
       "\\bottomrule\n",
       "\\end{tabular}\n",
       "\\begin{tabular}{lcccccc}\n",
       "                & \\textbf{coef} & \\textbf{std err} & \\textbf{z} & \\textbf{P$> |$z$|$} & \\textbf{[0.025} & \\textbf{0.975]}  \\\\\n",
       "\\midrule\n",
       "\\textbf{spx}    &       2.5907  &        0.031     &    83.331  &         0.000        &        2.530    &        2.652     \\\\\n",
       "\\textbf{ar.L1}  &       0.2120  &        0.030     &     7.145  &         0.000        &        0.154    &        0.270     \\\\\n",
       "\\textbf{ma.L1}  &      -0.4813  &        0.027     &   -18.051  &         0.000        &       -0.534    &       -0.429     \\\\\n",
       "\\textbf{sigma2} &    2367.7616  &       24.592     &    96.283  &         0.000        &     2319.563    &     2415.960     \\\\\n",
       "\\bottomrule\n",
       "\\end{tabular}\n",
       "\\begin{tabular}{lclc}\n",
       "\\textbf{Ljung-Box (L1) (Q):}     & 0.12 & \\textbf{  Jarque-Bera (JB):  } & 4632.97  \\\\\n",
       "\\textbf{Prob(Q):}                & 0.73 & \\textbf{  Prob(JB):          } &   0.00   \\\\\n",
       "\\textbf{Heteroskedasticity (H):} & 0.77 & \\textbf{  Skew:              } &  -0.45   \\\\\n",
       "\\textbf{Prob(H) (two-sided):}    & 0.00 & \\textbf{  Kurtosis:          } &   7.14   \\\\\n",
       "\\bottomrule\n",
       "\\end{tabular}\n",
       "%\\caption{SARIMAX Results}\n",
       "\\end{center}\n",
       "\n",
       "Warnings: \\newline\n",
       " [1] Covariance matrix calculated using the outer product of gradients (complex-step)."
      ],
      "text/plain": [
       "<class 'statsmodels.iolib.summary.Summary'>\n",
       "\"\"\"\n",
       "                               SARIMAX Results                                \n",
       "==============================================================================\n",
       "Dep. Variable:           market_value   No. Observations:                 6201\n",
       "Model:                 ARIMA(1, 1, 1)   Log Likelihood              -32883.543\n",
       "Date:                Sat, 14 Oct 2023   AIC                          65775.086\n",
       "Time:                        19:11:32   BIC                          65802.015\n",
       "Sample:                             0   HQIC                         65784.422\n",
       "                               - 6201                                         \n",
       "Covariance Type:                  opg                                         \n",
       "==============================================================================\n",
       "                 coef    std err          z      P>|z|      [0.025      0.975]\n",
       "------------------------------------------------------------------------------\n",
       "spx            2.5907      0.031     83.331      0.000       2.530       2.652\n",
       "ar.L1          0.2120      0.030      7.145      0.000       0.154       0.270\n",
       "ma.L1         -0.4813      0.027    -18.051      0.000      -0.534      -0.429\n",
       "sigma2      2367.7616     24.592     96.283      0.000    2319.563    2415.960\n",
       "===================================================================================\n",
       "Ljung-Box (L1) (Q):                   0.12   Jarque-Bera (JB):              4632.97\n",
       "Prob(Q):                              0.73   Prob(JB):                         0.00\n",
       "Heteroskedasticity (H):               0.77   Skew:                            -0.45\n",
       "Prob(H) (two-sided):                  0.00   Kurtosis:                         7.14\n",
       "===================================================================================\n",
       "\n",
       "Warnings:\n",
       "[1] Covariance matrix calculated using the outer product of gradients (complex-step).\n",
       "\"\"\""
      ]
     },
     "execution_count": 34,
     "metadata": {},
     "output_type": "execute_result"
    }
   ],
   "source": [
    "model_ar_1_i_1_ma_1_Xspx = ARIMA(df.market_value, exog = df.spx, order=(1,1,1))\n",
    "results_ar_1_i_1_ma_1_Xspx = model_ar_1_i_1_ma_1_Xspx.fit()\n",
    "results_ar_1_i_1_ma_1_Xspx.summary()"
   ]
  },
  {
   "cell_type": "markdown",
   "metadata": {},
   "source": [
    "## SARIMAX"
   ]
  },
  {
   "cell_type": "code",
   "execution_count": 35,
   "metadata": {},
   "outputs": [],
   "source": [
    "from statsmodels.tsa.statespace.sarimax import SARIMAX"
   ]
  },
  {
   "cell_type": "code",
   "execution_count": 36,
   "metadata": {},
   "outputs": [
    {
     "data": {
      "text/html": [
       "<table class=\"simpletable\">\n",
       "<caption>SARIMAX Results</caption>\n",
       "<tr>\n",
       "  <th>Dep. Variable:</th>           <td>market_value</td>          <th>  No. Observations:  </th>    <td>6201</td>   \n",
       "</tr>\n",
       "<tr>\n",
       "  <th>Model:</th>           <td>SARIMAX(1, 0, 1)x(2, 0, 1, 5)</td> <th>  Log Likelihood     </th> <td>-32899.916</td>\n",
       "</tr>\n",
       "<tr>\n",
       "  <th>Date:</th>                  <td>Sat, 14 Oct 2023</td>        <th>  AIC                </th>  <td>65813.832</td>\n",
       "</tr>\n",
       "<tr>\n",
       "  <th>Time:</th>                      <td>19:11:43</td>            <th>  BIC                </th>  <td>65860.959</td>\n",
       "</tr>\n",
       "<tr>\n",
       "  <th>Sample:</th>                        <td>0</td>               <th>  HQIC               </th>  <td>65830.171</td>\n",
       "</tr>\n",
       "<tr>\n",
       "  <th></th>                            <td> - 6201</td>            <th>                     </th>      <td> </td>    \n",
       "</tr>\n",
       "<tr>\n",
       "  <th>Covariance Type:</th>              <td>opg</td>              <th>                     </th>      <td> </td>    \n",
       "</tr>\n",
       "</table>\n",
       "<table class=\"simpletable\">\n",
       "<tr>\n",
       "      <td></td>        <th>coef</th>     <th>std err</th>      <th>z</th>      <th>P>|z|</th>  <th>[0.025</th>    <th>0.975]</th>  \n",
       "</tr>\n",
       "<tr>\n",
       "  <th>spx</th>      <td>    2.6057</td> <td>    0.031</td> <td>   84.408</td> <td> 0.000</td> <td>    2.545</td> <td>    2.666</td>\n",
       "</tr>\n",
       "<tr>\n",
       "  <th>ar.L1</th>    <td>    0.9999</td> <td>    0.000</td> <td> 4167.211</td> <td> 0.000</td> <td>    0.999</td> <td>    1.000</td>\n",
       "</tr>\n",
       "<tr>\n",
       "  <th>ma.L1</th>    <td>   -0.2863</td> <td>    0.009</td> <td>  -33.513</td> <td> 0.000</td> <td>   -0.303</td> <td>   -0.270</td>\n",
       "</tr>\n",
       "<tr>\n",
       "  <th>ar.S.L5</th>  <td>    0.9680</td> <td>    0.004</td> <td>  223.350</td> <td> 0.000</td> <td>    0.959</td> <td>    0.976</td>\n",
       "</tr>\n",
       "<tr>\n",
       "  <th>ar.S.L10</th> <td>    0.0319</td> <td>    0.004</td> <td>    8.191</td> <td> 0.000</td> <td>    0.024</td> <td>    0.039</td>\n",
       "</tr>\n",
       "<tr>\n",
       "  <th>ma.S.L5</th>  <td>   -0.9992</td> <td>    0.003</td> <td> -287.614</td> <td> 0.000</td> <td>   -1.006</td> <td>   -0.992</td>\n",
       "</tr>\n",
       "<tr>\n",
       "  <th>sigma2</th>   <td> 2360.3748</td> <td>   24.922</td> <td>   94.710</td> <td> 0.000</td> <td> 2311.528</td> <td> 2409.221</td>\n",
       "</tr>\n",
       "</table>\n",
       "<table class=\"simpletable\">\n",
       "<tr>\n",
       "  <th>Ljung-Box (L1) (Q):</th>     <td>1.18</td> <th>  Jarque-Bera (JB):  </th> <td>4461.41</td>\n",
       "</tr>\n",
       "<tr>\n",
       "  <th>Prob(Q):</th>                <td>0.28</td> <th>  Prob(JB):          </th>  <td>0.00</td>  \n",
       "</tr>\n",
       "<tr>\n",
       "  <th>Heteroskedasticity (H):</th> <td>0.76</td> <th>  Skew:              </th>  <td>-0.42</td> \n",
       "</tr>\n",
       "<tr>\n",
       "  <th>Prob(H) (two-sided):</th>    <td>0.00</td> <th>  Kurtosis:          </th>  <td>7.07</td>  \n",
       "</tr>\n",
       "</table><br/><br/>Warnings:<br/>[1] Covariance matrix calculated using the outer product of gradients (complex-step)."
      ],
      "text/latex": [
       "\\begin{center}\n",
       "\\begin{tabular}{lclc}\n",
       "\\toprule\n",
       "\\textbf{Dep. Variable:}          &         market\\_value         & \\textbf{  No. Observations:  } &    6201     \\\\\n",
       "\\textbf{Model:}                  & SARIMAX(1, 0, 1)x(2, 0, 1, 5) & \\textbf{  Log Likelihood     } & -32899.916  \\\\\n",
       "\\textbf{Date:}                   &        Sat, 14 Oct 2023       & \\textbf{  AIC                } & 65813.832   \\\\\n",
       "\\textbf{Time:}                   &            19:11:43           & \\textbf{  BIC                } & 65860.959   \\\\\n",
       "\\textbf{Sample:}                 &               0               & \\textbf{  HQIC               } & 65830.171   \\\\\n",
       "\\textbf{}                        &             - 6201            & \\textbf{                     } &             \\\\\n",
       "\\textbf{Covariance Type:}        &              opg              & \\textbf{                     } &             \\\\\n",
       "\\bottomrule\n",
       "\\end{tabular}\n",
       "\\begin{tabular}{lcccccc}\n",
       "                  & \\textbf{coef} & \\textbf{std err} & \\textbf{z} & \\textbf{P$> |$z$|$} & \\textbf{[0.025} & \\textbf{0.975]}  \\\\\n",
       "\\midrule\n",
       "\\textbf{spx}      &       2.6057  &        0.031     &    84.408  &         0.000        &        2.545    &        2.666     \\\\\n",
       "\\textbf{ar.L1}    &       0.9999  &        0.000     &  4167.211  &         0.000        &        0.999    &        1.000     \\\\\n",
       "\\textbf{ma.L1}    &      -0.2863  &        0.009     &   -33.513  &         0.000        &       -0.303    &       -0.270     \\\\\n",
       "\\textbf{ar.S.L5}  &       0.9680  &        0.004     &   223.350  &         0.000        &        0.959    &        0.976     \\\\\n",
       "\\textbf{ar.S.L10} &       0.0319  &        0.004     &     8.191  &         0.000        &        0.024    &        0.039     \\\\\n",
       "\\textbf{ma.S.L5}  &      -0.9992  &        0.003     &  -287.614  &         0.000        &       -1.006    &       -0.992     \\\\\n",
       "\\textbf{sigma2}   &    2360.3748  &       24.922     &    94.710  &         0.000        &     2311.528    &     2409.221     \\\\\n",
       "\\bottomrule\n",
       "\\end{tabular}\n",
       "\\begin{tabular}{lclc}\n",
       "\\textbf{Ljung-Box (L1) (Q):}     & 1.18 & \\textbf{  Jarque-Bera (JB):  } & 4461.41  \\\\\n",
       "\\textbf{Prob(Q):}                & 0.28 & \\textbf{  Prob(JB):          } &   0.00   \\\\\n",
       "\\textbf{Heteroskedasticity (H):} & 0.76 & \\textbf{  Skew:              } &  -0.42   \\\\\n",
       "\\textbf{Prob(H) (two-sided):}    & 0.00 & \\textbf{  Kurtosis:          } &   7.07   \\\\\n",
       "\\bottomrule\n",
       "\\end{tabular}\n",
       "%\\caption{SARIMAX Results}\n",
       "\\end{center}\n",
       "\n",
       "Warnings: \\newline\n",
       " [1] Covariance matrix calculated using the outer product of gradients (complex-step)."
      ],
      "text/plain": [
       "<class 'statsmodels.iolib.summary.Summary'>\n",
       "\"\"\"\n",
       "                                     SARIMAX Results                                     \n",
       "=========================================================================================\n",
       "Dep. Variable:                      market_value   No. Observations:                 6201\n",
       "Model:             SARIMAX(1, 0, 1)x(2, 0, 1, 5)   Log Likelihood              -32899.916\n",
       "Date:                           Sat, 14 Oct 2023   AIC                          65813.832\n",
       "Time:                                   19:11:43   BIC                          65860.959\n",
       "Sample:                                        0   HQIC                         65830.171\n",
       "                                          - 6201                                         \n",
       "Covariance Type:                             opg                                         \n",
       "==============================================================================\n",
       "                 coef    std err          z      P>|z|      [0.025      0.975]\n",
       "------------------------------------------------------------------------------\n",
       "spx            2.6057      0.031     84.408      0.000       2.545       2.666\n",
       "ar.L1          0.9999      0.000   4167.211      0.000       0.999       1.000\n",
       "ma.L1         -0.2863      0.009    -33.513      0.000      -0.303      -0.270\n",
       "ar.S.L5        0.9680      0.004    223.350      0.000       0.959       0.976\n",
       "ar.S.L10       0.0319      0.004      8.191      0.000       0.024       0.039\n",
       "ma.S.L5       -0.9992      0.003   -287.614      0.000      -1.006      -0.992\n",
       "sigma2      2360.3748     24.922     94.710      0.000    2311.528    2409.221\n",
       "===================================================================================\n",
       "Ljung-Box (L1) (Q):                   1.18   Jarque-Bera (JB):              4461.41\n",
       "Prob(Q):                              0.28   Prob(JB):                         0.00\n",
       "Heteroskedasticity (H):               0.76   Skew:                            -0.42\n",
       "Prob(H) (two-sided):                  0.00   Kurtosis:                         7.07\n",
       "===================================================================================\n",
       "\n",
       "Warnings:\n",
       "[1] Covariance matrix calculated using the outer product of gradients (complex-step).\n",
       "\"\"\""
      ]
     },
     "execution_count": 36,
     "metadata": {},
     "output_type": "execute_result"
    }
   ],
   "source": [
    "model_sarimax = SARIMAX(df.market_value, exog = df.spx, order=(1,0,1), seasonal_order = (2,0,1,5))\n",
    "results_sarimax = model_sarimax.fit()\n",
    "results_sarimax.summary()"
   ]
  }
 ],
 "metadata": {
  "kernelspec": {
   "display_name": "Python 3",
   "language": "python",
   "name": "python3"
  },
  "language_info": {
   "codemirror_mode": {
    "name": "ipython",
    "version": 3
   },
   "file_extension": ".py",
   "mimetype": "text/x-python",
   "name": "python",
   "nbconvert_exporter": "python",
   "pygments_lexer": "ipython3",
   "version": "3.11.4"
  }
 },
 "nbformat": 4,
 "nbformat_minor": 2
}
