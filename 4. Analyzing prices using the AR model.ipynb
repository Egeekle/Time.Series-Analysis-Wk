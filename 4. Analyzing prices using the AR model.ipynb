{
 "cells": [
  {
   "cell_type": "markdown",
   "metadata": {},
   "source": [
    "## Importacion de Librerias necesarias\n"
   ]
  },
  {
   "cell_type": "code",
   "execution_count": 4,
   "metadata": {},
   "outputs": [],
   "source": [
    "import pandas as pd\n",
    "import numpy as np\n",
    "import matplotlib.pyplot as plt\n",
    "import statsmodels.graphics.tsaplots as sgt\n",
    "from scipy.stats.distributions import chi2\n",
    "import statsmodels.tsa.stattools as sts \n",
    "from statsmodels.tsa.arima.model import ARIMA\n",
    "import seaborn as sns\n",
    "sns.set()"
   ]
  },
  {
   "cell_type": "markdown",
   "metadata": {},
   "source": [
    "## Importacion de datos y pre-procesamiento de la data"
   ]
  },
  {
   "cell_type": "code",
   "execution_count": 5,
   "metadata": {},
   "outputs": [],
   "source": [
    "raw_csv_data = pd.read_csv(\"Index_modified.csv\") \n",
    "df_comp=raw_csv_data.copy()\n",
    "df_comp.set_index(\"date\", inplace=True)\n",
    "#df_comp=df_comp.asfreq('b') linea que remuestrea dias laborales('b')\n",
    "#df_comp=df_comp.fillna(method='ffill')"
   ]
  },
  {
   "cell_type": "code",
   "execution_count": 6,
   "metadata": {},
   "outputs": [
    {
     "name": "stdout",
     "output_type": "stream",
     "text": [
      "<class 'pandas.core.frame.DataFrame'>\n",
      "Index: 7752 entries, 1994-01-07 to 2023-10-10\n",
      "Data columns (total 4 columns):\n",
      " #   Column  Non-Null Count  Dtype  \n",
      "---  ------  --------------  -----  \n",
      " 0   spx     7752 non-null   float64\n",
      " 1   dax     7752 non-null   float64\n",
      " 2   ftse    7752 non-null   float64\n",
      " 3   nikkei  7752 non-null   float64\n",
      "dtypes: float64(4)\n",
      "memory usage: 302.8+ KB\n"
     ]
    }
   ],
   "source": [
    "df_comp.info() # Informacion"
   ]
  },
  {
   "cell_type": "code",
   "execution_count": 7,
   "metadata": {},
   "outputs": [],
   "source": [
    "df_comp['market_value']=df_comp.ftse ## Valores de la columna market_value corresponde a FTSE"
   ]
  },
  {
   "cell_type": "code",
   "execution_count": 8,
   "metadata": {},
   "outputs": [
    {
     "data": {
      "text/html": [
       "<div>\n",
       "<style scoped>\n",
       "    .dataframe tbody tr th:only-of-type {\n",
       "        vertical-align: middle;\n",
       "    }\n",
       "\n",
       "    .dataframe tbody tr th {\n",
       "        vertical-align: top;\n",
       "    }\n",
       "\n",
       "    .dataframe thead th {\n",
       "        text-align: right;\n",
       "    }\n",
       "</style>\n",
       "<table border=\"1\" class=\"dataframe\">\n",
       "  <thead>\n",
       "    <tr style=\"text-align: right;\">\n",
       "      <th></th>\n",
       "      <th>spx</th>\n",
       "      <th>dax</th>\n",
       "      <th>ftse</th>\n",
       "      <th>nikkei</th>\n",
       "      <th>market_value</th>\n",
       "    </tr>\n",
       "    <tr>\n",
       "      <th>date</th>\n",
       "      <th></th>\n",
       "      <th></th>\n",
       "      <th></th>\n",
       "      <th></th>\n",
       "      <th></th>\n",
       "    </tr>\n",
       "  </thead>\n",
       "  <tbody>\n",
       "    <tr>\n",
       "      <th>1994-01-07</th>\n",
       "      <td>469.900000</td>\n",
       "      <td>2224.950000</td>\n",
       "      <td>3445.980000</td>\n",
       "      <td>18124.010000</td>\n",
       "      <td>3445.980000</td>\n",
       "    </tr>\n",
       "    <tr>\n",
       "      <th>1994-01-10</th>\n",
       "      <td>475.270000</td>\n",
       "      <td>2225.000000</td>\n",
       "      <td>3440.580000</td>\n",
       "      <td>18443.440000</td>\n",
       "      <td>3440.580000</td>\n",
       "    </tr>\n",
       "    <tr>\n",
       "      <th>1994-01-11</th>\n",
       "      <td>474.130000</td>\n",
       "      <td>2228.100000</td>\n",
       "      <td>3413.770000</td>\n",
       "      <td>18485.250000</td>\n",
       "      <td>3413.770000</td>\n",
       "    </tr>\n",
       "    <tr>\n",
       "      <th>1994-01-12</th>\n",
       "      <td>474.170000</td>\n",
       "      <td>2182.060000</td>\n",
       "      <td>3372.020000</td>\n",
       "      <td>18793.880000</td>\n",
       "      <td>3372.020000</td>\n",
       "    </tr>\n",
       "    <tr>\n",
       "      <th>1994-01-13</th>\n",
       "      <td>472.470000</td>\n",
       "      <td>2142.370000</td>\n",
       "      <td>3360.010000</td>\n",
       "      <td>18577.260000</td>\n",
       "      <td>3360.010000</td>\n",
       "    </tr>\n",
       "    <tr>\n",
       "      <th>...</th>\n",
       "      <td>...</td>\n",
       "      <td>...</td>\n",
       "      <td>...</td>\n",
       "      <td>...</td>\n",
       "      <td>...</td>\n",
       "    </tr>\n",
       "    <tr>\n",
       "      <th>2023-10-04</th>\n",
       "      <td>4263.750000</td>\n",
       "      <td>15099.919922</td>\n",
       "      <td>7412.500000</td>\n",
       "      <td>30526.880859</td>\n",
       "      <td>7412.500000</td>\n",
       "    </tr>\n",
       "    <tr>\n",
       "      <th>2023-10-05</th>\n",
       "      <td>4258.189941</td>\n",
       "      <td>15070.219727</td>\n",
       "      <td>7451.500000</td>\n",
       "      <td>31075.359375</td>\n",
       "      <td>7451.500000</td>\n",
       "    </tr>\n",
       "    <tr>\n",
       "      <th>2023-10-06</th>\n",
       "      <td>4308.500000</td>\n",
       "      <td>15229.769531</td>\n",
       "      <td>7494.600098</td>\n",
       "      <td>30994.669922</td>\n",
       "      <td>7494.600098</td>\n",
       "    </tr>\n",
       "    <tr>\n",
       "      <th>2023-10-09</th>\n",
       "      <td>4335.660156</td>\n",
       "      <td>15128.110352</td>\n",
       "      <td>7492.200195</td>\n",
       "      <td>30994.669922</td>\n",
       "      <td>7492.200195</td>\n",
       "    </tr>\n",
       "    <tr>\n",
       "      <th>2023-10-10</th>\n",
       "      <td>4358.240234</td>\n",
       "      <td>15423.519531</td>\n",
       "      <td>7628.200195</td>\n",
       "      <td>31746.529297</td>\n",
       "      <td>7628.200195</td>\n",
       "    </tr>\n",
       "  </tbody>\n",
       "</table>\n",
       "<p>7752 rows × 5 columns</p>\n",
       "</div>"
      ],
      "text/plain": [
       "                    spx           dax         ftse        nikkei  market_value\n",
       "date                                                                          \n",
       "1994-01-07   469.900000   2224.950000  3445.980000  18124.010000   3445.980000\n",
       "1994-01-10   475.270000   2225.000000  3440.580000  18443.440000   3440.580000\n",
       "1994-01-11   474.130000   2228.100000  3413.770000  18485.250000   3413.770000\n",
       "1994-01-12   474.170000   2182.060000  3372.020000  18793.880000   3372.020000\n",
       "1994-01-13   472.470000   2142.370000  3360.010000  18577.260000   3360.010000\n",
       "...                 ...           ...          ...           ...           ...\n",
       "2023-10-04  4263.750000  15099.919922  7412.500000  30526.880859   7412.500000\n",
       "2023-10-05  4258.189941  15070.219727  7451.500000  31075.359375   7451.500000\n",
       "2023-10-06  4308.500000  15229.769531  7494.600098  30994.669922   7494.600098\n",
       "2023-10-09  4335.660156  15128.110352  7492.200195  30994.669922   7492.200195\n",
       "2023-10-10  4358.240234  15423.519531  7628.200195  31746.529297   7628.200195\n",
       "\n",
       "[7752 rows x 5 columns]"
      ]
     },
     "execution_count": 8,
     "metadata": {},
     "output_type": "execute_result"
    }
   ],
   "source": [
    "df_comp"
   ]
  },
  {
   "cell_type": "code",
   "execution_count": 9,
   "metadata": {},
   "outputs": [],
   "source": [
    "#Eliminacion de las demas variables\n",
    "del df_comp['spx']\n",
    "del df_comp['dax']\n",
    "del df_comp['ftse']\n",
    "del df_comp['nikkei']\n",
    "#Separacion de data original en d_test y df = df_train\n",
    "#donde se podra pobrar la eficacia de los modelos para \n",
    "#entrenar y predecir nuevos datos\n",
    "size = int(len(df_comp)*0.8)\n",
    "df, df_test = df_comp.iloc[:size], df_comp.iloc[size:]"
   ]
  },
  {
   "cell_type": "code",
   "execution_count": 10,
   "metadata": {},
   "outputs": [
    {
     "data": {
      "text/html": [
       "<div>\n",
       "<style scoped>\n",
       "    .dataframe tbody tr th:only-of-type {\n",
       "        vertical-align: middle;\n",
       "    }\n",
       "\n",
       "    .dataframe tbody tr th {\n",
       "        vertical-align: top;\n",
       "    }\n",
       "\n",
       "    .dataframe thead th {\n",
       "        text-align: right;\n",
       "    }\n",
       "</style>\n",
       "<table border=\"1\" class=\"dataframe\">\n",
       "  <thead>\n",
       "    <tr style=\"text-align: right;\">\n",
       "      <th></th>\n",
       "      <th>market_value</th>\n",
       "    </tr>\n",
       "    <tr>\n",
       "      <th>date</th>\n",
       "      <th></th>\n",
       "    </tr>\n",
       "  </thead>\n",
       "  <tbody>\n",
       "    <tr>\n",
       "      <th>1994-01-07</th>\n",
       "      <td>3445.980000</td>\n",
       "    </tr>\n",
       "    <tr>\n",
       "      <th>1994-01-10</th>\n",
       "      <td>3440.580000</td>\n",
       "    </tr>\n",
       "    <tr>\n",
       "      <th>1994-01-11</th>\n",
       "      <td>3413.770000</td>\n",
       "    </tr>\n",
       "    <tr>\n",
       "      <th>1994-01-12</th>\n",
       "      <td>3372.020000</td>\n",
       "    </tr>\n",
       "    <tr>\n",
       "      <th>1994-01-13</th>\n",
       "      <td>3360.010000</td>\n",
       "    </tr>\n",
       "    <tr>\n",
       "      <th>...</th>\n",
       "      <td>...</td>\n",
       "    </tr>\n",
       "    <tr>\n",
       "      <th>2017-10-18</th>\n",
       "      <td>7542.866979</td>\n",
       "    </tr>\n",
       "    <tr>\n",
       "      <th>2017-10-19</th>\n",
       "      <td>7523.038195</td>\n",
       "    </tr>\n",
       "    <tr>\n",
       "      <th>2017-10-20</th>\n",
       "      <td>7523.225958</td>\n",
       "    </tr>\n",
       "    <tr>\n",
       "      <th>2017-10-23</th>\n",
       "      <td>7524.452244</td>\n",
       "    </tr>\n",
       "    <tr>\n",
       "      <th>2017-10-24</th>\n",
       "      <td>7526.543117</td>\n",
       "    </tr>\n",
       "  </tbody>\n",
       "</table>\n",
       "<p>6201 rows × 1 columns</p>\n",
       "</div>"
      ],
      "text/plain": [
       "            market_value\n",
       "date                    \n",
       "1994-01-07   3445.980000\n",
       "1994-01-10   3440.580000\n",
       "1994-01-11   3413.770000\n",
       "1994-01-12   3372.020000\n",
       "1994-01-13   3360.010000\n",
       "...                  ...\n",
       "2017-10-18   7542.866979\n",
       "2017-10-19   7523.038195\n",
       "2017-10-20   7523.225958\n",
       "2017-10-23   7524.452244\n",
       "2017-10-24   7526.543117\n",
       "\n",
       "[6201 rows x 1 columns]"
      ]
     },
     "execution_count": 10,
     "metadata": {},
     "output_type": "execute_result"
    }
   ],
   "source": [
    "df"
   ]
  },
  {
   "cell_type": "markdown",
   "metadata": {},
   "source": [
    "## The ACF"
   ]
  },
  {
   "cell_type": "markdown",
   "metadata": {},
   "source": [
    "El gráfico resultante mostrará la autocorrelacion completa para diferentes retrasos (lags) a lo largo de la serie temporal. Cada barra o punto en el gráfico representa la correlación entre los valores de la serie en el lag correspondiente. Si la ACF muestra patrones significativos de correlación en ciertos lags, esto puede indicar estacionalidad o tendencias en los datos, lo que puede ser útil para modelar y pronosticar los precios"
   ]
  },
  {
   "cell_type": "code",
   "execution_count": 11,
   "metadata": {
    "scrolled": true
   },
   "outputs": [
    {
     "data": {
      "image/png": "[encoded data removed]",
      "text/plain": [
       "<Figure size 640x480 with 1 Axes>"
      ]
     },
     "metadata": {},
     "output_type": "display_data"
    }
   ],
   "source": [
    "sgt.plot_acf(df.market_value, zero = False, lags = 40)\n",
    "plt.title(\"ACF for Prices\", size = 20)\n",
    "plt.show()"
   ]
  },
  {
   "cell_type": "code",
   "execution_count": 12,
   "metadata": {},
   "outputs": [],
   "source": [
    "##Libreria necesaria para la eliminacion de advertencias de codigo\n",
    "import warnings \n",
    "warnings.filterwarnings(\"ignore\")"
   ]
  },
  {
   "cell_type": "markdown",
   "metadata": {},
   "source": [
    "## The PACF"
   ]
  },
  {
   "cell_type": "markdown",
   "metadata": {},
   "source": [
    "El gráfico resultante mostrará la autocorrelacion parcial para diferentes retrasos (lags) a lo largo de la serie temporal. Cada barra o punto en el gráfico representa la correlación parcial entre los valores de la serie en el lag correspondiente después de eliminar el efecto de los retrasos intermedios. La PACF es útil para identificar la estructura de un modelo de series temporales de los precios, especialmente en modelos autorregresivos."
   ]
  },
  {
   "cell_type": "code",
   "execution_count": 13,
   "metadata": {
    "scrolled": true
   },
   "outputs": [
    {
     "data": {
      "image/png": "[encoded data removed]",
      "text/plain": [
       "<Figure size 640x480 with 1 Axes>"
      ]
     },
     "metadata": {},
     "output_type": "display_data"
    }
   ],
   "source": [
    "sgt.plot_pacf(df.market_value, lags = 40, alpha = 0.05, zero = False, method = ('ols'))\n",
    "plt.title(\"PACF for Prices\", size = 20)\n",
    "plt.show()"
   ]
  },
  {
   "cell_type": "markdown",
   "metadata": {},
   "source": [
    "# Modelo Autorregresivos **AR(q)**"
   ]
  },
  {
   "cell_type": "markdown",
   "metadata": {},
   "source": [
    "Los modelos autorregresivos AR(p) Los modelos autorregresivos, conocidos como modelos AR, describen el comportamiento \n",
    "temporal de una variable aleatoria con base en sus propios rezagos y a un error i.i.d. con media cero \n",
    "os modelos autorregresivos, conocidos como modelos AR, describen ey varianza σ 2. El número de rezagos utilizados es conocido como p. La forma general de este modelo \n",
    "mportamieestá dada por:\n",
    "\n",
    "$$y_{t}=c+\\phi_{1}Y_{t-1}+\\phi_{2}Y_{t-2}+.....+\\phi_{p}Y_{t-p}+u_{t}$$\n",
    "+ <b> Yt </b> = Valor de la serie temporal en el tiempo t \n",
    "+ <b> c </b> : Constante o intercepto \n",
    "+ <b> $ \\phi_{1},\\phi_{2}...,\\phi_{p}$ </b> = Coeficientes de autorregresion que multiplican los valores en los **p** periodos anteriores\n",
    "\n",
    "El orden del modelo AR(p) se refiere al numero de valores anteriores que se incluyen en el modelo para predecir el valor actual.Luego, se realiza mediante metodos de minimos cuadrados para la estimaciones de parametros $ \\phi_{1},\\phi_{2}...,\\phi_{p}$,en consecuencia se debe verificar la estacionariedad,independencia de los residuos,normalidad de los mismos para el pronostico.En conclusion los modelos AR son precisos y utiles para el modelamiento de la dependencia temporal en los datos,asi como la realizacion de pronosticos y entender mejor la dinamica de las series temporales.\n"
   ]
  },
  {
   "cell_type": "markdown",
   "metadata": {},
   "source": [
    "## Metodologia en Data Science\n",
    "+ <b> Definicion </b> = Se llama la Funcion ARIMA en una variable\n",
    "+ <b> Ajuste </b> : Se entrena con la data df_train para que prueba y haga un prueba de bondad con la correspondiente\n",
    "+ <b> Prediccion </b> = Se hace la prediccion a traves de los nuevos datos del df_test para medir su capacidad predictora con la data aprendida\n",
    "+ <b> Evaluacion </b> = Se hace la presencia de indicadores que comparan la eficacia entre el valor real y predicho para comprobar su capacidad predictora a traves de la minizacion de los errores concatenados de la ajuste temporal como MAE"
   ]
  },
  {
   "cell_type": "markdown",
   "metadata": {},
   "source": [
    "## The AR(1) Model"
   ]
  },
  {
   "cell_type": "markdown",
   "metadata": {},
   "source": [
    "Modelo de un solo rezago"
   ]
  },
  {
   "cell_type": "code",
   "execution_count": 14,
   "metadata": {},
   "outputs": [],
   "source": [
    "# Se construye mediante la funcion ARIMA en el orden (p,i,q) donde el primer parametro indica p rezagos.ejme 1 rezago\n",
    "model_ar = ARIMA(df.market_value, order=(1,0,0))"
   ]
  },
  {
   "cell_type": "code",
   "execution_count": 12,
   "metadata": {},
   "outputs": [],
   "source": [
    "# Ajuste con los datos correspondientes\n",
    "results_ar = model_ar.fit() "
   ]
  },
  {
   "cell_type": "code",
   "execution_count": 13,
   "metadata": {},
   "outputs": [
    {
     "data": {
      "text/html": [
       "<table class=\"simpletable\">\n",
       "<caption>SARIMAX Results</caption>\n",
       "<tr>\n",
       "  <th>Dep. Variable:</th>     <td>market_value</td>   <th>  No. Observations:  </th>    <td>6201</td>   \n",
       "</tr>\n",
       "<tr>\n",
       "  <th>Model:</th>            <td>ARIMA(1, 0, 0)</td>  <th>  Log Likelihood     </th> <td>-34045.315</td>\n",
       "</tr>\n",
       "<tr>\n",
       "  <th>Date:</th>            <td>Sat, 14 Oct 2023</td> <th>  AIC                </th>  <td>68096.629</td>\n",
       "</tr>\n",
       "<tr>\n",
       "  <th>Time:</th>                <td>15:41:34</td>     <th>  BIC                </th>  <td>68116.827</td>\n",
       "</tr>\n",
       "<tr>\n",
       "  <th>Sample:</th>                  <td>0</td>        <th>  HQIC               </th>  <td>68103.631</td>\n",
       "</tr>\n",
       "<tr>\n",
       "  <th></th>                      <td> - 6201</td>     <th>                     </th>      <td> </td>    \n",
       "</tr>\n",
       "<tr>\n",
       "  <th>Covariance Type:</th>        <td>opg</td>       <th>                     </th>      <td> </td>    \n",
       "</tr>\n",
       "</table>\n",
       "<table class=\"simpletable\">\n",
       "<tr>\n",
       "     <td></td>       <th>coef</th>     <th>std err</th>      <th>z</th>      <th>P>|z|</th>  <th>[0.025</th>    <th>0.975]</th>  \n",
       "</tr>\n",
       "<tr>\n",
       "  <th>const</th>  <td> 5399.5084</td> <td>  535.829</td> <td>   10.077</td> <td> 0.000</td> <td> 4349.302</td> <td> 6449.714</td>\n",
       "</tr>\n",
       "<tr>\n",
       "  <th>ar.L1</th>  <td>    0.9989</td> <td>    0.001</td> <td> 1365.639</td> <td> 0.000</td> <td>    0.997</td> <td>    1.000</td>\n",
       "</tr>\n",
       "<tr>\n",
       "  <th>sigma2</th> <td> 3434.7476</td> <td>   36.803</td> <td>   93.329</td> <td> 0.000</td> <td> 3362.616</td> <td> 3506.879</td>\n",
       "</tr>\n",
       "</table>\n",
       "<table class=\"simpletable\">\n",
       "<tr>\n",
       "  <th>Ljung-Box (L1) (Q):</th>     <td>0.43</td> <th>  Jarque-Bera (JB):  </th> <td>3558.89</td>\n",
       "</tr>\n",
       "<tr>\n",
       "  <th>Prob(Q):</th>                <td>0.51</td> <th>  Prob(JB):          </th>  <td>0.00</td>  \n",
       "</tr>\n",
       "<tr>\n",
       "  <th>Heteroskedasticity (H):</th> <td>1.07</td> <th>  Skew:              </th>  <td>-0.19</td> \n",
       "</tr>\n",
       "<tr>\n",
       "  <th>Prob(H) (two-sided):</th>    <td>0.12</td> <th>  Kurtosis:          </th>  <td>6.69</td>  \n",
       "</tr>\n",
       "</table><br/><br/>Warnings:<br/>[1] Covariance matrix calculated using the outer product of gradients (complex-step)."
      ],
      "text/latex": [
       "\\begin{center}\n",
       "\\begin{tabular}{lclc}\n",
       "\\toprule\n",
       "\\textbf{Dep. Variable:}          &  market\\_value   & \\textbf{  No. Observations:  } &    6201     \\\\\n",
       "\\textbf{Model:}                  &  ARIMA(1, 0, 0)  & \\textbf{  Log Likelihood     } & -34045.315  \\\\\n",
       "\\textbf{Date:}                   & Sat, 14 Oct 2023 & \\textbf{  AIC                } & 68096.629   \\\\\n",
       "\\textbf{Time:}                   &     15:41:34     & \\textbf{  BIC                } & 68116.827   \\\\\n",
       "\\textbf{Sample:}                 &        0         & \\textbf{  HQIC               } & 68103.631   \\\\\n",
       "\\textbf{}                        &      - 6201      & \\textbf{                     } &             \\\\\n",
       "\\textbf{Covariance Type:}        &       opg        & \\textbf{                     } &             \\\\\n",
       "\\bottomrule\n",
       "\\end{tabular}\n",
       "\\begin{tabular}{lcccccc}\n",
       "                & \\textbf{coef} & \\textbf{std err} & \\textbf{z} & \\textbf{P$> |$z$|$} & \\textbf{[0.025} & \\textbf{0.975]}  \\\\\n",
       "\\midrule\n",
       "\\textbf{const}  &    5399.5084  &      535.829     &    10.077  &         0.000        &     4349.302    &     6449.714     \\\\\n",
       "\\textbf{ar.L1}  &       0.9989  &        0.001     &  1365.639  &         0.000        &        0.997    &        1.000     \\\\\n",
       "\\textbf{sigma2} &    3434.7476  &       36.803     &    93.329  &         0.000        &     3362.616    &     3506.879     \\\\\n",
       "\\bottomrule\n",
       "\\end{tabular}\n",
       "\\begin{tabular}{lclc}\n",
       "\\textbf{Ljung-Box (L1) (Q):}     & 0.43 & \\textbf{  Jarque-Bera (JB):  } & 3558.89  \\\\\n",
       "\\textbf{Prob(Q):}                & 0.51 & \\textbf{  Prob(JB):          } &   0.00   \\\\\n",
       "\\textbf{Heteroskedasticity (H):} & 1.07 & \\textbf{  Skew:              } &  -0.19   \\\\\n",
       "\\textbf{Prob(H) (two-sided):}    & 0.12 & \\textbf{  Kurtosis:          } &   6.69   \\\\\n",
       "\\bottomrule\n",
       "\\end{tabular}\n",
       "%\\caption{SARIMAX Results}\n",
       "\\end{center}\n",
       "\n",
       "Warnings: \\newline\n",
       " [1] Covariance matrix calculated using the outer product of gradients (complex-step)."
      ],
      "text/plain": [
       "<class 'statsmodels.iolib.summary.Summary'>\n",
       "\"\"\"\n",
       "                               SARIMAX Results                                \n",
       "==============================================================================\n",
       "Dep. Variable:           market_value   No. Observations:                 6201\n",
       "Model:                 ARIMA(1, 0, 0)   Log Likelihood              -34045.315\n",
       "Date:                Sat, 14 Oct 2023   AIC                          68096.629\n",
       "Time:                        15:41:34   BIC                          68116.827\n",
       "Sample:                             0   HQIC                         68103.631\n",
       "                               - 6201                                         \n",
       "Covariance Type:                  opg                                         \n",
       "==============================================================================\n",
       "                 coef    std err          z      P>|z|      [0.025      0.975]\n",
       "------------------------------------------------------------------------------\n",
       "const       5399.5084    535.829     10.077      0.000    4349.302    6449.714\n",
       "ar.L1          0.9989      0.001   1365.639      0.000       0.997       1.000\n",
       "sigma2      3434.7476     36.803     93.329      0.000    3362.616    3506.879\n",
       "===================================================================================\n",
       "Ljung-Box (L1) (Q):                   0.43   Jarque-Bera (JB):              3558.89\n",
       "Prob(Q):                              0.51   Prob(JB):                         0.00\n",
       "Heteroskedasticity (H):               1.07   Skew:                            -0.19\n",
       "Prob(H) (two-sided):                  0.12   Kurtosis:                         6.69\n",
       "===================================================================================\n",
       "\n",
       "Warnings:\n",
       "[1] Covariance matrix calculated using the outer product of gradients (complex-step).\n",
       "\"\"\""
      ]
     },
     "execution_count": 13,
     "metadata": {},
     "output_type": "execute_result"
    }
   ],
   "source": [
    "## Ventana de datos e informacion sobre las pruebas de ajuste\n",
    "results_ar.summary()"
   ]
  },
  {
   "cell_type": "markdown",
   "metadata": {},
   "source": [
    "## Modelos de mayor rezagos"
   ]
  },
  {
   "cell_type": "markdown",
   "metadata": {},
   "source": [
    "Modelo AR(2)"
   ]
  },
  {
   "cell_type": "code",
   "execution_count": 14,
   "metadata": {},
   "outputs": [
    {
     "data": {
      "text/html": [
       "<table class=\"simpletable\">\n",
       "<caption>SARIMAX Results</caption>\n",
       "<tr>\n",
       "  <th>Dep. Variable:</th>     <td>market_value</td>   <th>  No. Observations:  </th>    <td>6201</td>   \n",
       "</tr>\n",
       "<tr>\n",
       "  <th>Model:</th>            <td>ARIMA(2, 0, 0)</td>  <th>  Log Likelihood     </th> <td>-34045.207</td>\n",
       "</tr>\n",
       "<tr>\n",
       "  <th>Date:</th>            <td>Sat, 14 Oct 2023</td> <th>  AIC                </th>  <td>68098.413</td>\n",
       "</tr>\n",
       "<tr>\n",
       "  <th>Time:</th>                <td>15:41:34</td>     <th>  BIC                </th>  <td>68125.343</td>\n",
       "</tr>\n",
       "<tr>\n",
       "  <th>Sample:</th>                  <td>0</td>        <th>  HQIC               </th>  <td>68107.749</td>\n",
       "</tr>\n",
       "<tr>\n",
       "  <th></th>                      <td> - 6201</td>     <th>                     </th>      <td> </td>    \n",
       "</tr>\n",
       "<tr>\n",
       "  <th>Covariance Type:</th>        <td>opg</td>       <th>                     </th>      <td> </td>    \n",
       "</tr>\n",
       "</table>\n",
       "<table class=\"simpletable\">\n",
       "<tr>\n",
       "     <td></td>       <th>coef</th>     <th>std err</th>      <th>z</th>      <th>P>|z|</th>  <th>[0.025</th>    <th>0.975]</th>  \n",
       "</tr>\n",
       "<tr>\n",
       "  <th>const</th>  <td> 5399.5071</td> <td>  458.351</td> <td>   11.780</td> <td> 0.000</td> <td> 4501.156</td> <td> 6297.858</td>\n",
       "</tr>\n",
       "<tr>\n",
       "  <th>ar.L1</th>  <td>    0.9906</td> <td>    0.009</td> <td>  112.042</td> <td> 0.000</td> <td>    0.973</td> <td>    1.008</td>\n",
       "</tr>\n",
       "<tr>\n",
       "  <th>ar.L2</th>  <td>    0.0081</td> <td>    0.009</td> <td>    0.923</td> <td> 0.356</td> <td>   -0.009</td> <td>    0.025</td>\n",
       "</tr>\n",
       "<tr>\n",
       "  <th>sigma2</th> <td> 3434.3071</td> <td>   36.913</td> <td>   93.038</td> <td> 0.000</td> <td> 3361.959</td> <td> 3506.655</td>\n",
       "</tr>\n",
       "</table>\n",
       "<table class=\"simpletable\">\n",
       "<tr>\n",
       "  <th>Ljung-Box (L1) (Q):</th>     <td>0.00</td> <th>  Jarque-Bera (JB):  </th> <td>3542.14</td>\n",
       "</tr>\n",
       "<tr>\n",
       "  <th>Prob(Q):</th>                <td>0.97</td> <th>  Prob(JB):          </th>  <td>0.00</td>  \n",
       "</tr>\n",
       "<tr>\n",
       "  <th>Heteroskedasticity (H):</th> <td>1.07</td> <th>  Skew:              </th>  <td>-0.19</td> \n",
       "</tr>\n",
       "<tr>\n",
       "  <th>Prob(H) (two-sided):</th>    <td>0.13</td> <th>  Kurtosis:          </th>  <td>6.68</td>  \n",
       "</tr>\n",
       "</table><br/><br/>Warnings:<br/>[1] Covariance matrix calculated using the outer product of gradients (complex-step)."
      ],
      "text/latex": [
       "\\begin{center}\n",
       "\\begin{tabular}{lclc}\n",
       "\\toprule\n",
       "\\textbf{Dep. Variable:}          &  market\\_value   & \\textbf{  No. Observations:  } &    6201     \\\\\n",
       "\\textbf{Model:}                  &  ARIMA(2, 0, 0)  & \\textbf{  Log Likelihood     } & -34045.207  \\\\\n",
       "\\textbf{Date:}                   & Sat, 14 Oct 2023 & \\textbf{  AIC                } & 68098.413   \\\\\n",
       "\\textbf{Time:}                   &     15:41:34     & \\textbf{  BIC                } & 68125.343   \\\\\n",
       "\\textbf{Sample:}                 &        0         & \\textbf{  HQIC               } & 68107.749   \\\\\n",
       "\\textbf{}                        &      - 6201      & \\textbf{                     } &             \\\\\n",
       "\\textbf{Covariance Type:}        &       opg        & \\textbf{                     } &             \\\\\n",
       "\\bottomrule\n",
       "\\end{tabular}\n",
       "\\begin{tabular}{lcccccc}\n",
       "                & \\textbf{coef} & \\textbf{std err} & \\textbf{z} & \\textbf{P$> |$z$|$} & \\textbf{[0.025} & \\textbf{0.975]}  \\\\\n",
       "\\midrule\n",
       "\\textbf{const}  &    5399.5071  &      458.351     &    11.780  &         0.000        &     4501.156    &     6297.858     \\\\\n",
       "\\textbf{ar.L1}  &       0.9906  &        0.009     &   112.042  &         0.000        &        0.973    &        1.008     \\\\\n",
       "\\textbf{ar.L2}  &       0.0081  &        0.009     &     0.923  &         0.356        &       -0.009    &        0.025     \\\\\n",
       "\\textbf{sigma2} &    3434.3071  &       36.913     &    93.038  &         0.000        &     3361.959    &     3506.655     \\\\\n",
       "\\bottomrule\n",
       "\\end{tabular}\n",
       "\\begin{tabular}{lclc}\n",
       "\\textbf{Ljung-Box (L1) (Q):}     & 0.00 & \\textbf{  Jarque-Bera (JB):  } & 3542.14  \\\\\n",
       "\\textbf{Prob(Q):}                & 0.97 & \\textbf{  Prob(JB):          } &   0.00   \\\\\n",
       "\\textbf{Heteroskedasticity (H):} & 1.07 & \\textbf{  Skew:              } &  -0.19   \\\\\n",
       "\\textbf{Prob(H) (two-sided):}    & 0.13 & \\textbf{  Kurtosis:          } &   6.68   \\\\\n",
       "\\bottomrule\n",
       "\\end{tabular}\n",
       "%\\caption{SARIMAX Results}\n",
       "\\end{center}\n",
       "\n",
       "Warnings: \\newline\n",
       " [1] Covariance matrix calculated using the outer product of gradients (complex-step)."
      ],
      "text/plain": [
       "<class 'statsmodels.iolib.summary.Summary'>\n",
       "\"\"\"\n",
       "                               SARIMAX Results                                \n",
       "==============================================================================\n",
       "Dep. Variable:           market_value   No. Observations:                 6201\n",
       "Model:                 ARIMA(2, 0, 0)   Log Likelihood              -34045.207\n",
       "Date:                Sat, 14 Oct 2023   AIC                          68098.413\n",
       "Time:                        15:41:34   BIC                          68125.343\n",
       "Sample:                             0   HQIC                         68107.749\n",
       "                               - 6201                                         \n",
       "Covariance Type:                  opg                                         \n",
       "==============================================================================\n",
       "                 coef    std err          z      P>|z|      [0.025      0.975]\n",
       "------------------------------------------------------------------------------\n",
       "const       5399.5071    458.351     11.780      0.000    4501.156    6297.858\n",
       "ar.L1          0.9906      0.009    112.042      0.000       0.973       1.008\n",
       "ar.L2          0.0081      0.009      0.923      0.356      -0.009       0.025\n",
       "sigma2      3434.3071     36.913     93.038      0.000    3361.959    3506.655\n",
       "===================================================================================\n",
       "Ljung-Box (L1) (Q):                   0.00   Jarque-Bera (JB):              3542.14\n",
       "Prob(Q):                              0.97   Prob(JB):                         0.00\n",
       "Heteroskedasticity (H):               1.07   Skew:                            -0.19\n",
       "Prob(H) (two-sided):                  0.13   Kurtosis:                         6.68\n",
       "===================================================================================\n",
       "\n",
       "Warnings:\n",
       "[1] Covariance matrix calculated using the outer product of gradients (complex-step).\n",
       "\"\"\""
      ]
     },
     "execution_count": 14,
     "metadata": {},
     "output_type": "execute_result"
    }
   ],
   "source": [
    "model_ar_2 = ARIMA(df.market_value, order=(2,0,0))\n",
    "results_ar_2 = model_ar_2.fit()\n",
    "results_ar_2.summary()"
   ]
  },
  {
   "cell_type": "markdown",
   "metadata": {},
   "source": [
    "Modelo AR(3)"
   ]
  },
  {
   "cell_type": "code",
   "execution_count": 15,
   "metadata": {},
   "outputs": [
    {
     "data": {
      "text/html": [
       "<table class=\"simpletable\">\n",
       "<caption>SARIMAX Results</caption>\n",
       "<tr>\n",
       "  <th>Dep. Variable:</th>     <td>market_value</td>   <th>  No. Observations:  </th>    <td>6201</td>   \n",
       "</tr>\n",
       "<tr>\n",
       "  <th>Model:</th>            <td>ARIMA(3, 0, 0)</td>  <th>  Log Likelihood     </th> <td>-34038.375</td>\n",
       "</tr>\n",
       "<tr>\n",
       "  <th>Date:</th>            <td>Sat, 14 Oct 2023</td> <th>  AIC                </th>  <td>68086.751</td>\n",
       "</tr>\n",
       "<tr>\n",
       "  <th>Time:</th>                <td>15:41:34</td>     <th>  BIC                </th>  <td>68120.413</td>\n",
       "</tr>\n",
       "<tr>\n",
       "  <th>Sample:</th>                  <td>0</td>        <th>  HQIC               </th>  <td>68098.421</td>\n",
       "</tr>\n",
       "<tr>\n",
       "  <th></th>                      <td> - 6201</td>     <th>                     </th>      <td> </td>    \n",
       "</tr>\n",
       "<tr>\n",
       "  <th>Covariance Type:</th>        <td>opg</td>       <th>                     </th>      <td> </td>    \n",
       "</tr>\n",
       "</table>\n",
       "<table class=\"simpletable\">\n",
       "<tr>\n",
       "     <td></td>       <th>coef</th>     <th>std err</th>      <th>z</th>      <th>P>|z|</th>  <th>[0.025</th>    <th>0.975]</th>  \n",
       "</tr>\n",
       "<tr>\n",
       "  <th>const</th>  <td> 5399.5071</td> <td>  475.136</td> <td>   11.364</td> <td> 0.000</td> <td> 4468.257</td> <td> 6330.757</td>\n",
       "</tr>\n",
       "<tr>\n",
       "  <th>ar.L1</th>  <td>    0.9902</td> <td>    0.009</td> <td>  111.357</td> <td> 0.000</td> <td>    0.973</td> <td>    1.008</td>\n",
       "</tr>\n",
       "<tr>\n",
       "  <th>ar.L2</th>  <td>   -0.0384</td> <td>    0.012</td> <td>   -3.163</td> <td> 0.002</td> <td>   -0.062</td> <td>   -0.015</td>\n",
       "</tr>\n",
       "<tr>\n",
       "  <th>ar.L3</th>  <td>    0.0470</td> <td>    0.008</td> <td>    5.637</td> <td> 0.000</td> <td>    0.031</td> <td>    0.063</td>\n",
       "</tr>\n",
       "<tr>\n",
       "  <th>sigma2</th> <td> 3427.1547</td> <td>   36.879</td> <td>   92.929</td> <td> 0.000</td> <td> 3354.873</td> <td> 3499.436</td>\n",
       "</tr>\n",
       "</table>\n",
       "<table class=\"simpletable\">\n",
       "<tr>\n",
       "  <th>Ljung-Box (L1) (Q):</th>     <td>0.04</td> <th>  Jarque-Bera (JB):  </th> <td>3552.74</td>\n",
       "</tr>\n",
       "<tr>\n",
       "  <th>Prob(Q):</th>                <td>0.84</td> <th>  Prob(JB):          </th>  <td>0.00</td>  \n",
       "</tr>\n",
       "<tr>\n",
       "  <th>Heteroskedasticity (H):</th> <td>1.08</td> <th>  Skew:              </th>  <td>-0.22</td> \n",
       "</tr>\n",
       "<tr>\n",
       "  <th>Prob(H) (two-sided):</th>    <td>0.10</td> <th>  Kurtosis:          </th>  <td>6.68</td>  \n",
       "</tr>\n",
       "</table><br/><br/>Warnings:<br/>[1] Covariance matrix calculated using the outer product of gradients (complex-step)."
      ],
      "text/latex": [
       "\\begin{center}\n",
       "\\begin{tabular}{lclc}\n",
       "\\toprule\n",
       "\\textbf{Dep. Variable:}          &  market\\_value   & \\textbf{  No. Observations:  } &    6201     \\\\\n",
       "\\textbf{Model:}                  &  ARIMA(3, 0, 0)  & \\textbf{  Log Likelihood     } & -34038.375  \\\\\n",
       "\\textbf{Date:}                   & Sat, 14 Oct 2023 & \\textbf{  AIC                } & 68086.751   \\\\\n",
       "\\textbf{Time:}                   &     15:41:34     & \\textbf{  BIC                } & 68120.413   \\\\\n",
       "\\textbf{Sample:}                 &        0         & \\textbf{  HQIC               } & 68098.421   \\\\\n",
       "\\textbf{}                        &      - 6201      & \\textbf{                     } &             \\\\\n",
       "\\textbf{Covariance Type:}        &       opg        & \\textbf{                     } &             \\\\\n",
       "\\bottomrule\n",
       "\\end{tabular}\n",
       "\\begin{tabular}{lcccccc}\n",
       "                & \\textbf{coef} & \\textbf{std err} & \\textbf{z} & \\textbf{P$> |$z$|$} & \\textbf{[0.025} & \\textbf{0.975]}  \\\\\n",
       "\\midrule\n",
       "\\textbf{const}  &    5399.5071  &      475.136     &    11.364  &         0.000        &     4468.257    &     6330.757     \\\\\n",
       "\\textbf{ar.L1}  &       0.9902  &        0.009     &   111.357  &         0.000        &        0.973    &        1.008     \\\\\n",
       "\\textbf{ar.L2}  &      -0.0384  &        0.012     &    -3.163  &         0.002        &       -0.062    &       -0.015     \\\\\n",
       "\\textbf{ar.L3}  &       0.0470  &        0.008     &     5.637  &         0.000        &        0.031    &        0.063     \\\\\n",
       "\\textbf{sigma2} &    3427.1547  &       36.879     &    92.929  &         0.000        &     3354.873    &     3499.436     \\\\\n",
       "\\bottomrule\n",
       "\\end{tabular}\n",
       "\\begin{tabular}{lclc}\n",
       "\\textbf{Ljung-Box (L1) (Q):}     & 0.04 & \\textbf{  Jarque-Bera (JB):  } & 3552.74  \\\\\n",
       "\\textbf{Prob(Q):}                & 0.84 & \\textbf{  Prob(JB):          } &   0.00   \\\\\n",
       "\\textbf{Heteroskedasticity (H):} & 1.08 & \\textbf{  Skew:              } &  -0.22   \\\\\n",
       "\\textbf{Prob(H) (two-sided):}    & 0.10 & \\textbf{  Kurtosis:          } &   6.68   \\\\\n",
       "\\bottomrule\n",
       "\\end{tabular}\n",
       "%\\caption{SARIMAX Results}\n",
       "\\end{center}\n",
       "\n",
       "Warnings: \\newline\n",
       " [1] Covariance matrix calculated using the outer product of gradients (complex-step)."
      ],
      "text/plain": [
       "<class 'statsmodels.iolib.summary.Summary'>\n",
       "\"\"\"\n",
       "                               SARIMAX Results                                \n",
       "==============================================================================\n",
       "Dep. Variable:           market_value   No. Observations:                 6201\n",
       "Model:                 ARIMA(3, 0, 0)   Log Likelihood              -34038.375\n",
       "Date:                Sat, 14 Oct 2023   AIC                          68086.751\n",
       "Time:                        15:41:34   BIC                          68120.413\n",
       "Sample:                             0   HQIC                         68098.421\n",
       "                               - 6201                                         \n",
       "Covariance Type:                  opg                                         \n",
       "==============================================================================\n",
       "                 coef    std err          z      P>|z|      [0.025      0.975]\n",
       "------------------------------------------------------------------------------\n",
       "const       5399.5071    475.136     11.364      0.000    4468.257    6330.757\n",
       "ar.L1          0.9902      0.009    111.357      0.000       0.973       1.008\n",
       "ar.L2         -0.0384      0.012     -3.163      0.002      -0.062      -0.015\n",
       "ar.L3          0.0470      0.008      5.637      0.000       0.031       0.063\n",
       "sigma2      3427.1547     36.879     92.929      0.000    3354.873    3499.436\n",
       "===================================================================================\n",
       "Ljung-Box (L1) (Q):                   0.04   Jarque-Bera (JB):              3552.74\n",
       "Prob(Q):                              0.84   Prob(JB):                         0.00\n",
       "Heteroskedasticity (H):               1.08   Skew:                            -0.22\n",
       "Prob(H) (two-sided):                  0.10   Kurtosis:                         6.68\n",
       "===================================================================================\n",
       "\n",
       "Warnings:\n",
       "[1] Covariance matrix calculated using the outer product of gradients (complex-step).\n",
       "\"\"\""
      ]
     },
     "execution_count": 15,
     "metadata": {},
     "output_type": "execute_result"
    }
   ],
   "source": [
    "model_ar_3 = ARIMA(df.market_value, order=(3,0,0))\n",
    "results_ar_3 = model_ar_3.fit()\n",
    "results_ar_3.summary()"
   ]
  },
  {
   "cell_type": "markdown",
   "metadata": {},
   "source": [
    "Modelo AR(4)"
   ]
  },
  {
   "cell_type": "code",
   "execution_count": 16,
   "metadata": {},
   "outputs": [
    {
     "data": {
      "text/html": [
       "<table class=\"simpletable\">\n",
       "<caption>SARIMAX Results</caption>\n",
       "<tr>\n",
       "  <th>Dep. Variable:</th>     <td>market_value</td>   <th>  No. Observations:  </th>    <td>6201</td>   \n",
       "</tr>\n",
       "<tr>\n",
       "  <th>Model:</th>            <td>ARIMA(4, 0, 0)</td>  <th>  Log Likelihood     </th> <td>-34029.550</td>\n",
       "</tr>\n",
       "<tr>\n",
       "  <th>Date:</th>            <td>Sat, 14 Oct 2023</td> <th>  AIC                </th>  <td>68071.100</td>\n",
       "</tr>\n",
       "<tr>\n",
       "  <th>Time:</th>                <td>15:41:34</td>     <th>  BIC                </th>  <td>68111.494</td>\n",
       "</tr>\n",
       "<tr>\n",
       "  <th>Sample:</th>                  <td>0</td>        <th>  HQIC               </th>  <td>68085.104</td>\n",
       "</tr>\n",
       "<tr>\n",
       "  <th></th>                      <td> - 6201</td>     <th>                     </th>      <td> </td>    \n",
       "</tr>\n",
       "<tr>\n",
       "  <th>Covariance Type:</th>        <td>opg</td>       <th>                     </th>      <td> </td>    \n",
       "</tr>\n",
       "</table>\n",
       "<table class=\"simpletable\">\n",
       "<tr>\n",
       "     <td></td>       <th>coef</th>     <th>std err</th>      <th>z</th>      <th>P>|z|</th>  <th>[0.025</th>    <th>0.975]</th>  \n",
       "</tr>\n",
       "<tr>\n",
       "  <th>const</th>  <td> 5399.5071</td> <td>  493.178</td> <td>   10.948</td> <td> 0.000</td> <td> 4432.897</td> <td> 6366.117</td>\n",
       "</tr>\n",
       "<tr>\n",
       "  <th>ar.L1</th>  <td>    0.9877</td> <td>    0.009</td> <td>  110.367</td> <td> 0.000</td> <td>    0.970</td> <td>    1.005</td>\n",
       "</tr>\n",
       "<tr>\n",
       "  <th>ar.L2</th>  <td>   -0.0363</td> <td>    0.012</td> <td>   -2.973</td> <td> 0.003</td> <td>   -0.060</td> <td>   -0.012</td>\n",
       "</tr>\n",
       "<tr>\n",
       "  <th>ar.L3</th>  <td>   -0.0059</td> <td>    0.011</td> <td>   -0.513</td> <td> 0.608</td> <td>   -0.028</td> <td>    0.017</td>\n",
       "</tr>\n",
       "<tr>\n",
       "  <th>ar.L4</th>  <td>    0.0534</td> <td>    0.008</td> <td>    6.520</td> <td> 0.000</td> <td>    0.037</td> <td>    0.069</td>\n",
       "</tr>\n",
       "<tr>\n",
       "  <th>sigma2</th> <td> 3417.6302</td> <td>   37.553</td> <td>   91.008</td> <td> 0.000</td> <td> 3344.027</td> <td> 3491.233</td>\n",
       "</tr>\n",
       "</table>\n",
       "<table class=\"simpletable\">\n",
       "<tr>\n",
       "  <th>Ljung-Box (L1) (Q):</th>     <td>0.00</td> <th>  Jarque-Bera (JB):  </th> <td>3367.27</td>\n",
       "</tr>\n",
       "<tr>\n",
       "  <th>Prob(Q):</th>                <td>0.98</td> <th>  Prob(JB):          </th>  <td>0.00</td>  \n",
       "</tr>\n",
       "<tr>\n",
       "  <th>Heteroskedasticity (H):</th> <td>1.08</td> <th>  Skew:              </th>  <td>-0.27</td> \n",
       "</tr>\n",
       "<tr>\n",
       "  <th>Prob(H) (two-sided):</th>    <td>0.07</td> <th>  Kurtosis:          </th>  <td>6.57</td>  \n",
       "</tr>\n",
       "</table><br/><br/>Warnings:<br/>[1] Covariance matrix calculated using the outer product of gradients (complex-step)."
      ],
      "text/latex": [
       "\\begin{center}\n",
       "\\begin{tabular}{lclc}\n",
       "\\toprule\n",
       "\\textbf{Dep. Variable:}          &  market\\_value   & \\textbf{  No. Observations:  } &    6201     \\\\\n",
       "\\textbf{Model:}                  &  ARIMA(4, 0, 0)  & \\textbf{  Log Likelihood     } & -34029.550  \\\\\n",
       "\\textbf{Date:}                   & Sat, 14 Oct 2023 & \\textbf{  AIC                } & 68071.100   \\\\\n",
       "\\textbf{Time:}                   &     15:41:34     & \\textbf{  BIC                } & 68111.494   \\\\\n",
       "\\textbf{Sample:}                 &        0         & \\textbf{  HQIC               } & 68085.104   \\\\\n",
       "\\textbf{}                        &      - 6201      & \\textbf{                     } &             \\\\\n",
       "\\textbf{Covariance Type:}        &       opg        & \\textbf{                     } &             \\\\\n",
       "\\bottomrule\n",
       "\\end{tabular}\n",
       "\\begin{tabular}{lcccccc}\n",
       "                & \\textbf{coef} & \\textbf{std err} & \\textbf{z} & \\textbf{P$> |$z$|$} & \\textbf{[0.025} & \\textbf{0.975]}  \\\\\n",
       "\\midrule\n",
       "\\textbf{const}  &    5399.5071  &      493.178     &    10.948  &         0.000        &     4432.897    &     6366.117     \\\\\n",
       "\\textbf{ar.L1}  &       0.9877  &        0.009     &   110.367  &         0.000        &        0.970    &        1.005     \\\\\n",
       "\\textbf{ar.L2}  &      -0.0363  &        0.012     &    -2.973  &         0.003        &       -0.060    &       -0.012     \\\\\n",
       "\\textbf{ar.L3}  &      -0.0059  &        0.011     &    -0.513  &         0.608        &       -0.028    &        0.017     \\\\\n",
       "\\textbf{ar.L4}  &       0.0534  &        0.008     &     6.520  &         0.000        &        0.037    &        0.069     \\\\\n",
       "\\textbf{sigma2} &    3417.6302  &       37.553     &    91.008  &         0.000        &     3344.027    &     3491.233     \\\\\n",
       "\\bottomrule\n",
       "\\end{tabular}\n",
       "\\begin{tabular}{lclc}\n",
       "\\textbf{Ljung-Box (L1) (Q):}     & 0.00 & \\textbf{  Jarque-Bera (JB):  } & 3367.27  \\\\\n",
       "\\textbf{Prob(Q):}                & 0.98 & \\textbf{  Prob(JB):          } &   0.00   \\\\\n",
       "\\textbf{Heteroskedasticity (H):} & 1.08 & \\textbf{  Skew:              } &  -0.27   \\\\\n",
       "\\textbf{Prob(H) (two-sided):}    & 0.07 & \\textbf{  Kurtosis:          } &   6.57   \\\\\n",
       "\\bottomrule\n",
       "\\end{tabular}\n",
       "%\\caption{SARIMAX Results}\n",
       "\\end{center}\n",
       "\n",
       "Warnings: \\newline\n",
       " [1] Covariance matrix calculated using the outer product of gradients (complex-step)."
      ],
      "text/plain": [
       "<class 'statsmodels.iolib.summary.Summary'>\n",
       "\"\"\"\n",
       "                               SARIMAX Results                                \n",
       "==============================================================================\n",
       "Dep. Variable:           market_value   No. Observations:                 6201\n",
       "Model:                 ARIMA(4, 0, 0)   Log Likelihood              -34029.550\n",
       "Date:                Sat, 14 Oct 2023   AIC                          68071.100\n",
       "Time:                        15:41:34   BIC                          68111.494\n",
       "Sample:                             0   HQIC                         68085.104\n",
       "                               - 6201                                         \n",
       "Covariance Type:                  opg                                         \n",
       "==============================================================================\n",
       "                 coef    std err          z      P>|z|      [0.025      0.975]\n",
       "------------------------------------------------------------------------------\n",
       "const       5399.5071    493.178     10.948      0.000    4432.897    6366.117\n",
       "ar.L1          0.9877      0.009    110.367      0.000       0.970       1.005\n",
       "ar.L2         -0.0363      0.012     -2.973      0.003      -0.060      -0.012\n",
       "ar.L3         -0.0059      0.011     -0.513      0.608      -0.028       0.017\n",
       "ar.L4          0.0534      0.008      6.520      0.000       0.037       0.069\n",
       "sigma2      3417.6302     37.553     91.008      0.000    3344.027    3491.233\n",
       "===================================================================================\n",
       "Ljung-Box (L1) (Q):                   0.00   Jarque-Bera (JB):              3367.27\n",
       "Prob(Q):                              0.98   Prob(JB):                         0.00\n",
       "Heteroskedasticity (H):               1.08   Skew:                            -0.27\n",
       "Prob(H) (two-sided):                  0.07   Kurtosis:                         6.57\n",
       "===================================================================================\n",
       "\n",
       "Warnings:\n",
       "[1] Covariance matrix calculated using the outer product of gradients (complex-step).\n",
       "\"\"\""
      ]
     },
     "execution_count": 16,
     "metadata": {},
     "output_type": "execute_result"
    }
   ],
   "source": [
    "model_ar_4 = ARIMA(df.market_value, order=[4,0,0])\n",
    "results_ar_4 = model_ar_4.fit()\n",
    "results_ar_4.summary()"
   ]
  },
  {
   "cell_type": "markdown",
   "metadata": {},
   "source": [
    "## LLR Test"
   ]
  },
  {
   "cell_type": "code",
   "execution_count": 17,
   "metadata": {},
   "outputs": [],
   "source": [
    "def LLR_test(mod_1, mod_2, DF=1):\n",
    "    L1 = mod_1.fit().llf\n",
    "    L2 = mod_2.fit().llf\n",
    "    LR = (2*(L2-L1))\n",
    "    p = chi2.sf(LR, DF).round(3)\n",
    "    return p"
   ]
  },
  {
   "cell_type": "markdown",
   "metadata": {},
   "source": [
    "## Comparacion de distintos modelos AR con mayores rezagos"
   ]
  },
  {
   "cell_type": "code",
   "execution_count": 18,
   "metadata": {},
   "outputs": [
    {
     "data": {
      "text/plain": [
       "0.0"
      ]
     },
     "execution_count": 18,
     "metadata": {},
     "output_type": "execute_result"
    }
   ],
   "source": [
    "LLR_test(model_ar_2, model_ar_3)"
   ]
  },
  {
   "cell_type": "code",
   "execution_count": 19,
   "metadata": {},
   "outputs": [
    {
     "data": {
      "text/plain": [
       "0.0"
      ]
     },
     "execution_count": 19,
     "metadata": {},
     "output_type": "execute_result"
    }
   ],
   "source": [
    "LLR_test(model_ar_3, model_ar_4)"
   ]
  },
  {
   "cell_type": "markdown",
   "metadata": {},
   "source": [
    "Modelo AR(4) y comparacion versus Modelo AR(3)"
   ]
  },
  {
   "cell_type": "code",
   "execution_count": 20,
   "metadata": {},
   "outputs": [
    {
     "name": "stdout",
     "output_type": "stream",
     "text": [
      "                               SARIMAX Results                                \n",
      "==============================================================================\n",
      "Dep. Variable:           market_value   No. Observations:                 6201\n",
      "Model:                 ARIMA(4, 0, 0)   Log Likelihood              -34029.550\n",
      "Date:                Sat, 14 Oct 2023   AIC                          68071.100\n",
      "Time:                        15:41:36   BIC                          68111.494\n",
      "Sample:                             0   HQIC                         68085.104\n",
      "                               - 6201                                         \n",
      "Covariance Type:                  opg                                         \n",
      "==============================================================================\n",
      "                 coef    std err          z      P>|z|      [0.025      0.975]\n",
      "------------------------------------------------------------------------------\n",
      "const       5399.5071    493.178     10.948      0.000    4432.897    6366.117\n",
      "ar.L1          0.9877      0.009    110.367      0.000       0.970       1.005\n",
      "ar.L2         -0.0363      0.012     -2.973      0.003      -0.060      -0.012\n",
      "ar.L3         -0.0059      0.011     -0.513      0.608      -0.028       0.017\n",
      "ar.L4          0.0534      0.008      6.520      0.000       0.037       0.069\n",
      "sigma2      3417.6302     37.553     91.008      0.000    3344.027    3491.233\n",
      "===================================================================================\n",
      "Ljung-Box (L1) (Q):                   0.00   Jarque-Bera (JB):              3367.27\n",
      "Prob(Q):                              0.98   Prob(JB):                         0.00\n",
      "Heteroskedasticity (H):               1.08   Skew:                            -0.27\n",
      "Prob(H) (two-sided):                  0.07   Kurtosis:                         6.57\n",
      "===================================================================================\n",
      "\n",
      "Warnings:\n",
      "[1] Covariance matrix calculated using the outer product of gradients (complex-step).\n",
      "LLR test: 0.0\n"
     ]
    }
   ],
   "source": [
    "model_ar_4 = ARIMA(df.market_value, order=[4,0,0])\n",
    "results_ar_4 = model_ar_4.fit()\n",
    "print(results_ar_4.summary()) \n",
    "print (\"LLR test: \" + str(LLR_test(model_ar_3, model_ar_4)))"
   ]
  },
  {
   "cell_type": "markdown",
   "metadata": {},
   "source": [
    "Modelo AR(5) y comparacion versus Modelo AR(4)"
   ]
  },
  {
   "cell_type": "code",
   "execution_count": 21,
   "metadata": {},
   "outputs": [
    {
     "name": "stdout",
     "output_type": "stream",
     "text": [
      "                               SARIMAX Results                                \n",
      "==============================================================================\n",
      "Dep. Variable:           market_value   No. Observations:                 6201\n",
      "Model:                 ARIMA(5, 0, 0)   Log Likelihood              -34029.311\n",
      "Date:                Sat, 14 Oct 2023   AIC                          68072.621\n",
      "Time:                        15:41:37   BIC                          68119.749\n",
      "Sample:                             0   HQIC                         68088.960\n",
      "                               - 6201                                         \n",
      "Covariance Type:                  opg                                         \n",
      "==============================================================================\n",
      "                 coef    std err          z      P>|z|      [0.025      0.975]\n",
      "------------------------------------------------------------------------------\n",
      "const       5399.5071    489.939     11.021      0.000    4439.244    6359.770\n",
      "ar.L1          0.9882      0.009    110.330      0.000       0.971       1.006\n",
      "ar.L2         -0.0364      0.012     -2.977      0.003      -0.060      -0.012\n",
      "ar.L3         -0.0062      0.011     -0.541      0.588      -0.029       0.016\n",
      "ar.L4          0.0621      0.012      5.277      0.000       0.039       0.085\n",
      "ar.L5         -0.0089      0.008     -1.072      0.284      -0.025       0.007\n",
      "sigma2      3417.8694     37.762     90.510      0.000    3343.856    3491.882\n",
      "===================================================================================\n",
      "Ljung-Box (L1) (Q):                   0.00   Jarque-Bera (JB):              3340.58\n",
      "Prob(Q):                              0.98   Prob(JB):                         0.00\n",
      "Heteroskedasticity (H):               1.08   Skew:                            -0.26\n",
      "Prob(H) (two-sided):                  0.07   Kurtosis:                         6.56\n",
      "===================================================================================\n",
      "\n",
      "Warnings:\n",
      "[1] Covariance matrix calculated using the outer product of gradients (complex-step).\n",
      "\n",
      "LLR test p-value = 0.489\n"
     ]
    }
   ],
   "source": [
    "model_ar_5 = ARIMA(df.market_value, order=(5,0,0))\n",
    "results_ar_5 = model_ar_5.fit()\n",
    "print(results_ar_5.summary())\n",
    "print(\"\\nLLR test p-value = \" + str(LLR_test(model_ar_4, model_ar_5)))"
   ]
  },
  {
   "cell_type": "markdown",
   "metadata": {},
   "source": [
    "Modelo AR(6) y comparacion versus Modelo AR(5)"
   ]
  },
  {
   "cell_type": "code",
   "execution_count": 22,
   "metadata": {},
   "outputs": [
    {
     "name": "stdout",
     "output_type": "stream",
     "text": [
      "                               SARIMAX Results                                \n",
      "==============================================================================\n",
      "Dep. Variable:           market_value   No. Observations:                 6201\n",
      "Model:                 ARIMA(6, 0, 0)   Log Likelihood              -34024.359\n",
      "Date:                Sat, 14 Oct 2023   AIC                          68064.718\n",
      "Time:                        15:41:38   BIC                          68118.578\n",
      "Sample:                             0   HQIC                         68083.391\n",
      "                               - 6201                                         \n",
      "Covariance Type:                  opg                                         \n",
      "==============================================================================\n",
      "                 coef    std err          z      P>|z|      [0.025      0.975]\n",
      "------------------------------------------------------------------------------\n",
      "const       5399.5071    508.760     10.613      0.000    4402.356    6396.658\n",
      "ar.L1          0.9885      0.009    109.323      0.000       0.971       1.006\n",
      "ar.L2         -0.0389      0.012     -3.151      0.002      -0.063      -0.015\n",
      "ar.L3         -0.0060      0.012     -0.518      0.604      -0.029       0.017\n",
      "ar.L4          0.0636      0.012      5.401      0.000       0.040       0.087\n",
      "ar.L5         -0.0483      0.011     -4.268      0.000      -0.070      -0.026\n",
      "ar.L6          0.0399      0.008      4.819      0.000       0.024       0.056\n",
      "sigma2      3412.7784     37.676     90.581      0.000    3338.934    3486.623\n",
      "===================================================================================\n",
      "Ljung-Box (L1) (Q):                   0.01   Jarque-Bera (JB):              3347.22\n",
      "Prob(Q):                              0.92   Prob(JB):                         0.00\n",
      "Heteroskedasticity (H):               1.08   Skew:                            -0.28\n",
      "Prob(H) (two-sided):                  0.07   Kurtosis:                         6.56\n",
      "===================================================================================\n",
      "\n",
      "Warnings:\n",
      "[1] Covariance matrix calculated using the outer product of gradients (complex-step).\n",
      "\n",
      "LLR test p-value = 0.002\n"
     ]
    }
   ],
   "source": [
    "model_ar_6 = ARIMA(df.market_value, order=(6,0,0))\n",
    "results_ar_6 = model_ar_6.fit()\n",
    "print(results_ar_6.summary())\n",
    "print(\"\\nLLR test p-value = \" + str(LLR_test(model_ar_5, model_ar_6)))"
   ]
  },
  {
   "cell_type": "markdown",
   "metadata": {},
   "source": [
    "Modelo AR(7) y comparacion versus Modelo AR(6)"
   ]
  },
  {
   "cell_type": "code",
   "execution_count": 23,
   "metadata": {},
   "outputs": [
    {
     "name": "stdout",
     "output_type": "stream",
     "text": [
      "                               SARIMAX Results                                \n",
      "==============================================================================\n",
      "Dep. Variable:           market_value   No. Observations:                 6201\n",
      "Model:                 ARIMA(7, 0, 0)   Log Likelihood              -34021.604\n",
      "Date:                Sat, 14 Oct 2023   AIC                          68061.208\n",
      "Time:                        15:41:40   BIC                          68121.801\n",
      "Sample:                             0   HQIC                         68082.215\n",
      "                               - 6201                                         \n",
      "Covariance Type:                  opg                                         \n",
      "==============================================================================\n",
      "                 coef    std err          z      P>|z|      [0.025      0.975]\n",
      "------------------------------------------------------------------------------\n",
      "const       5399.5071    520.782     10.368      0.000    4378.792    6420.222\n",
      "ar.L1          0.9874      0.009    108.323      0.000       0.969       1.005\n",
      "ar.L2         -0.0375      0.013     -2.993      0.003      -0.062      -0.013\n",
      "ar.L3         -0.0079      0.012     -0.680      0.496      -0.031       0.015\n",
      "ar.L4          0.0637      0.012      5.416      0.000       0.041       0.087\n",
      "ar.L5         -0.0471      0.011     -4.161      0.000      -0.069      -0.025\n",
      "ar.L6          0.0105      0.012      0.898      0.369      -0.012       0.033\n",
      "ar.L7          0.0298      0.009      3.377      0.001       0.013       0.047\n",
      "sigma2      3410.2961     37.650     90.578      0.000    3336.503    3484.089\n",
      "===================================================================================\n",
      "Ljung-Box (L1) (Q):                   0.00   Jarque-Bera (JB):              3362.44\n",
      "Prob(Q):                              1.00   Prob(JB):                         0.00\n",
      "Heteroskedasticity (H):               1.09   Skew:                            -0.29\n",
      "Prob(H) (two-sided):                  0.06   Kurtosis:                         6.56\n",
      "===================================================================================\n",
      "\n",
      "Warnings:\n",
      "[1] Covariance matrix calculated using the outer product of gradients (complex-step).\n",
      "\n",
      "LLR test p-value = 0.019\n"
     ]
    }
   ],
   "source": [
    "model_ar_7 = ARIMA(df.market_value, order=(7,0,0))\n",
    "results_ar_7 = model_ar_7.fit()\n",
    "print(results_ar_7.summary())\n",
    "print(\"\\nLLR test p-value = \" + str(LLR_test(model_ar_6, model_ar_7)))"
   ]
  },
  {
   "cell_type": "markdown",
   "metadata": {},
   "source": [
    "Modelo AR(8) y comparacion versus Modelo AR(7)"
   ]
  },
  {
   "cell_type": "code",
   "execution_count": 24,
   "metadata": {},
   "outputs": [
    {
     "name": "stdout",
     "output_type": "stream",
     "text": [
      "                               SARIMAX Results                                \n",
      "==============================================================================\n",
      "Dep. Variable:           market_value   No. Observations:                 6201\n",
      "Model:                 ARIMA(8, 0, 0)   Log Likelihood              -34021.480\n",
      "Date:                Sat, 14 Oct 2023   AIC                          68062.960\n",
      "Time:                        15:41:41   BIC                          68130.285\n",
      "Sample:                             0   HQIC                         68086.301\n",
      "                               - 6201                                         \n",
      "Covariance Type:                  opg                                         \n",
      "==============================================================================\n",
      "                 coef    std err          z      P>|z|      [0.025      0.975]\n",
      "------------------------------------------------------------------------------\n",
      "const       5399.5071    522.425     10.335      0.000    4375.573    6423.441\n",
      "ar.L1          0.9876      0.009    108.287      0.000       0.970       1.005\n",
      "ar.L2         -0.0374      0.013     -2.983      0.003      -0.062      -0.013\n",
      "ar.L3         -0.0082      0.012     -0.701      0.483      -0.031       0.015\n",
      "ar.L4          0.0641      0.012      5.404      0.000       0.041       0.087\n",
      "ar.L5         -0.0472      0.011     -4.164      0.000      -0.069      -0.025\n",
      "ar.L6          0.0102      0.012      0.876      0.381      -0.013       0.033\n",
      "ar.L7          0.0359      0.013      2.799      0.005       0.011       0.061\n",
      "ar.L8         -0.0062      0.009     -0.688      0.491      -0.024       0.011\n",
      "sigma2      3410.5934     37.708     90.446      0.000    3336.686    3484.501\n",
      "===================================================================================\n",
      "Ljung-Box (L1) (Q):                   0.00   Jarque-Bera (JB):              3354.97\n",
      "Prob(Q):                              0.99   Prob(JB):                         0.00\n",
      "Heteroskedasticity (H):               1.09   Skew:                            -0.29\n",
      "Prob(H) (two-sided):                  0.06   Kurtosis:                         6.56\n",
      "===================================================================================\n",
      "\n",
      "Warnings:\n",
      "[1] Covariance matrix calculated using the outer product of gradients (complex-step).\n",
      "\n",
      "LLR test p-value = 0.618\n"
     ]
    }
   ],
   "source": [
    "model_ar_8 = ARIMA(df.market_value, order=(8,0,0))\n",
    "results_ar_8 = model_ar_8.fit()\n",
    "print(results_ar_8.summary())\n",
    "print(\"\\nLLR test p-value = \" + str(LLR_test(model_ar_7, model_ar_8)))"
   ]
  },
  {
   "cell_type": "code",
   "execution_count": 25,
   "metadata": {},
   "outputs": [
    {
     "name": "stdout",
     "output_type": "stream",
     "text": [
      "LLR test: 0.0\n"
     ]
    }
   ],
   "source": [
    "print(\"LLR test: \" + str(LLR_test(model_ar, model_ar_7, DF = 6)))"
   ]
  },
  {
   "cell_type": "markdown",
   "metadata": {},
   "source": [
    "## Analizando residuos"
   ]
  },
  {
   "cell_type": "code",
   "execution_count": 26,
   "metadata": {},
   "outputs": [],
   "source": [
    "## Adicion de los residuos de los precios,pues puede incluirse en la prediccion de los precios\n",
    "df['res_price'] = results_ar_7.resid"
   ]
  },
  {
   "cell_type": "code",
   "execution_count": 27,
   "metadata": {},
   "outputs": [
    {
     "data": {
      "text/plain": [
       "0.4611636667382784"
      ]
     },
     "execution_count": 27,
     "metadata": {},
     "output_type": "execute_result"
    }
   ],
   "source": [
    "#Media de los residuos\n",
    "df.res_price.mean()"
   ]
  },
  {
   "cell_type": "code",
   "execution_count": 28,
   "metadata": {},
   "outputs": [
    {
     "data": {
      "text/plain": [
       "4023.0211500770815"
      ]
     },
     "execution_count": 28,
     "metadata": {},
     "output_type": "execute_result"
    }
   ],
   "source": [
    "#Varianza de los errores de los precios\n",
    "df.res_price.var()"
   ]
  },
  {
   "cell_type": "code",
   "execution_count": 29,
   "metadata": {},
   "outputs": [
    {
     "data": {
      "text/plain": [
       "(-85.48863155781655,\n",
       " 0.0,\n",
       " 0,\n",
       " 6200,\n",
       " {'1%': -3.431405162820285,\n",
       "  '5%': -2.8620062877330406,\n",
       "  '10%': -2.56701820210718},\n",
       " 67679.34906635997)"
      ]
     },
     "execution_count": 29,
     "metadata": {},
     "output_type": "execute_result"
    }
   ],
   "source": [
    "#Prueba de estacionariedad de los residuos de los precios\n",
    "sts.adfuller(df.res_price)"
   ]
  },
  {
   "cell_type": "markdown",
   "metadata": {},
   "source": [
    "Grafico de autocorrelacion completa de los residuos de los precios"
   ]
  },
  {
   "cell_type": "code",
   "execution_count": 30,
   "metadata": {},
   "outputs": [
    {
     "data": {
      "image/png": "[encoded data removed]",
      "text/plain": [
       "<Figure size 432x288 with 1 Axes>"
      ]
     },
     "metadata": {
      "needs_background": "light"
     },
     "output_type": "display_data"
    }
   ],
   "source": [
    "sgt.plot_acf(df.res_price, zero = False, lags = 40)\n",
    "plt.title(\"ACF Of Residuals for Prices\",size=24)\n",
    "plt.show()"
   ]
  },
  {
   "cell_type": "markdown",
   "metadata": {},
   "source": [
    "Grafico de serie de tiempo de los residuos de los precios"
   ]
  },
  {
   "cell_type": "code",
   "execution_count": 31,
   "metadata": {},
   "outputs": [
    {
     "data": {
      "image/png": "[encoded data removed]",
      "text/plain": [
       "<Figure size 1440x360 with 1 Axes>"
      ]
     },
     "metadata": {
      "needs_background": "light"
     },
     "output_type": "display_data"
    }
   ],
   "source": [
    "df.res_price[1:].plot(figsize=(20,5))\n",
    "plt.title(\"Residuals of Prices\",size=24)\n",
    "plt.show()"
   ]
  }
 ],
 "metadata": {
  "kernelspec": {
   "display_name": "Python 3",
   "language": "python",
   "name": "python3"
  },
  "language_info": {
   "codemirror_mode": {
    "name": "ipython",
    "version": 3
   },
   "file_extension": ".py",
   "mimetype": "text/x-python",
   "name": "python",
   "nbconvert_exporter": "python",
   "pygments_lexer": "ipython3",
   "version": "3.11.4"
  }
 },
 "nbformat": 4,
 "nbformat_minor": 2
}
